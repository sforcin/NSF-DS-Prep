{
 "cells": [
  {
   "cell_type": "markdown",
   "metadata": {},
   "source": [
    "<hr style=\"height:5px;border-width:2;color:gray;background-color:#000000\"> \n",
    "<center><h1>CS 144 - Spring 2025 - Homework 4</h1></center>\n",
    "<center><h1>Due: Sunday, May 4, 2025 @ 11:59pm</h1></center>"
   ]
  },
  {
   "cell_type": "markdown",
   "metadata": {
    "tags": []
   },
   "source": [
    "## Read *all* cells carefully and answer all parts (both text and code)"
   ]
  },
  {
   "cell_type": "markdown",
   "metadata": {},
   "source": [
    "### Enter your information below:\n",
    "\n",
    "<div style=\"color: #000000;background-color: #EEEEFF\">\n",
    "    Your Name (submitter):  <br>\n",
    "    Your student ID (submitter):\n",
    "<br>\n",
    "<br>\n",
    "<b>By submitting this notebook, I assert that the work below is my own work, completed for this course.  Except where explicitly cited, none of the portions of this notebook are duplicated from anyone else's work or my own previous work.</b>\n",
    "<br>    \n",
    "<br>\n",
    "<b>Instruction for submissions:</B> when you have completed this homework, download this .ipynb file to your computer by left-clicking on the file name, and submit to <a href=\"https://elearn.ucr.edu/\">Canvas</A> by the deadline. \n",
    "<br>\n",
    "<br>\n",
    "<B>Late work:</B> Each student is granted five \"late days\" which can be used (in integer units) on any of the homework. If a more dire situation arises, please contact the instructor. DO NOT RESORT TO CHEATING.\n",
    "</div>\n"
   ]
  },
  {
   "cell_type": "markdown",
   "metadata": {},
   "source": [
    "<hr style=\"height:5px;border-width:2;color:gray;background-color:#000000\"> \n",
    "<center><h1>Chapter 3: Sequence Alignment</h1></center>\n",
    "<br>\n",
    "\n",
    "Chapter 3 has a <B>LOT</B> of coding challenges. In the interest of time, we will <b>skip</b> the following coding challenges on sequence alignment in the book\n",
    "<UL>\n",
    "<LI><A HREF=\"https://cogniterra.org/lesson/51921/step/10?unit=43410\">Solve the Change Problem</A></LI>\n",
    "<LI><A HREF=\"https://cogniterra.org/lesson/51922/step/10?unit=43411\">Find the length of a longest path in the Manhattan Tourist Problem</A></LI>\n",
    "<LI><A HREF=\"https://cogniterra.org/lesson/51924/step/5?unit=43413\">Use OutputLCS to solve the Longest Common Subsequence Problem</A></LI>\n",
    "<LI><A HREF=\"https://cogniterra.org/lesson/51924/step/7?unit=43413\">Solve the Longest Path in a DAG Problem</A></LI>\n",
    "<LI><A HREF=\"https://cogniterra.org/lesson/51927/step/3?unit=43416\">Solve the Edit Distance Problem</A></LI>\n",
    "<LI><A HREF=\"https://cogniterra.org/lesson/51927/step/5?unit=43416\">Solve the Fitting Alignment Problem</A></LI>\n",
    "<LI><A HREF=\"https://cogniterra.org/lesson/51927/step/7?unit=43416\">Solve the Overlap Alignment Problem</A></LI>\n",
    "<LI><A HREF=\"https://cogniterra.org/lesson/51928/step/8?unit=43417\">Solve the Alignment with Affine Gap Penalties Problem</A></LI>\n",
    "<LI><A HREF=\"https://cogniterra.org/lesson/51929/step/12?unit=43418\">Solve the Middle Edge in Linear Space Problem (for protein strings)</A></LI>\n",
    "<LI><A HREF=\"https://cogniterra.org/lesson/51929/step/14?unit=43418\">Implement LinearSpaceAlignment to solve the Global Alignment Problem for a large dataset</A></LI>\n",
    "<LI><A HREF=\"https://cogniterra.org/lesson/51930/step/5?unit=43419\">Solve the Multiple Longest Common Subsequence Problem</A></LI>\n",
    "<LI><A HREF=\"https://cogniterra.org/lesson/51933/step/3?unit=43422\">Implement Topological Ordering</A></LI>\n",
    "</UL>\n",
    "Those challenges above are OPTIONAL. They are good problems, but you do not need to solve it, unless you feel inclined to do so."
   ]
  },
  {
   "cell_type": "markdown",
   "metadata": {},
   "source": [
    "<hr style=\"height:5px;border-width:2;color:gray;background-color:#000000\"> \n",
    "<center><h1>Global Sequence Alignment</h1></center>\n",
    "<br>"
   ]
  },
  {
   "cell_type": "markdown",
   "metadata": {},
   "source": [
    "<div style=\"color: #000000;background-color: #EEFFEE\">\n",
    "    <font size=+2>Question 1</font><font size=+1> (15 points)</font>\n",
    "\n",
    "Solve the <A HREF=\"https://cogniterra.org/lesson/51926/step/3?unit=43415\">Global Alignment Problem.</A> Submit your solution to the challenge on Cogniterra and paste your Python code below.\n",
    "   \n",
    "Notes:\n",
    "<ul>\n",
    "<li>There could be multiple optimal alignments for the same input, i.e., multiple alignments with the same maximum score, but the book accepts any optimal solution</li>\n",
    "<li>For tracing the alignment back, you can either reconstruct the optimal path on the dynamic programming table containing the scores, or you can produce a separate table of traceback pointers</li>\n",
    "</ul>\n",
    "</div>"
   ]
  },
  {
   "cell_type": "code",
   "execution_count": 5,
   "metadata": {},
   "outputs": [
    {
     "name": "stdout",
     "output_type": "stream",
     "text": [
      "--2025-05-04 22:11:30--  http://www.cs.ucr.edu/~stelo/cs144/data/hw4_test1.txt\n",
      "Resolving www.cs.ucr.edu (www.cs.ucr.edu)... 169.235.30.15\n",
      "Connecting to www.cs.ucr.edu (www.cs.ucr.edu)|169.235.30.15|:80... connected.\n",
      "HTTP request sent, awaiting response... 200 OK\n",
      "Length: 18 [text/plain]\n",
      "Saving to: ‘hw4_test1.txt.2’\n",
      "\n",
      "hw4_test1.txt.2     100%[===================>]      18  --.-KB/s    in 0s      \n",
      "\n",
      "2025-05-04 22:11:30 (2.91 MB/s) - ‘hw4_test1.txt.2’ saved [18/18]\n",
      "\n"
     ]
    }
   ],
   "source": [
    "!wget http://www.cs.ucr.edu/~stelo/cs144/data/hw4_test1.txt"
   ]
  },
  {
   "cell_type": "code",
   "execution_count": 16,
   "metadata": {},
   "outputs": [
    {
     "name": "stdout",
     "output_type": "stream",
     "text": [
      "[[    0    -5   -10 ... -3930 -3935 -3940]\n",
      " [   -5     4    -1 ... -3921 -3926 -3931]\n",
      " [  -10    -1     1 ... -3907 -3912 -3917]\n",
      " ...\n",
      " [-3590 -3581 -3568 ...  1775  1770  1765]\n",
      " [-3595 -3586 -3573 ...  1770  1779  1774]\n",
      " [-3600 -3591 -3578 ...  1767  1774  1785]]\n",
      "1785\n",
      "A--C------DIMPELYFPKYFDELWIMKSIQENRCHFCSPISESIDAWERQFCDSAYSQAQWGRDPKKLEVCSDHKGFPIFDLIWSAYCT-Y-------NMGTHQAQKAF-SEQWVL----FITWQPRYTSSGGGCWAATSYR--VKPD-K-DS-YNNDKTITANNW-V----PYIKHDICIWMSHW-YESCIMQKMPTSPGRIDTSSFKGK--MHHSNHIT---D--D-QFCSPDRESGMSYQNCCCCIQRWNQMHCGKFWCHWHTWREGWIQHGMCFLDWMALWEAGKEGIEKVLRQ-------S-YVITFCDIFCATSHED---A-M----PYHADKSDYGYMGN---D-KNDRYIG-CR-EHM--VAIFIVYVWYIFE----MTILEMWIVIYVYSYVAPEFF--CCAWDYSQN-YSISVVF-VERTDNNKIPDINENSKDWGFHSQVYYYN-GSEL---YTNIAIMDGWTQQWCHSPWSHWLLMWGIILCVFAMCWMTIGRMENVQGFNNDQWMNKAEYYPFFPNMPKT-----I-IQ-LRWIFHAFNFRDYNQVQQPRMGDTQELWRILYYTHPFMIGMNSWSGEFHGHQNGRQVQCWFWCTPG-W-FH-IYKLC-GNVQCWQVRG-SAI-IPW-HENYKIKIWMMIMAEMSH--Y--A-WCHNHKIAIRHQAYHGWLGDSQNDHSGFSGMLEFIEKDHWQTERKPSLRWDAD-----IEQ-SRTYS--K--E----R--RFIQS--C-PFPARFGYNMYCGHVQCRIACGRWINDTPRFQELCNQEIELHT-SLCHINNNSFFQRKCRQTNQRFEYVN---S----VLSM-SQVN\n",
      "AHMCHISNQHDIMPELYFPMKFDD-----CIY---CHFCSPISESIDAWERQFCDSPYSQAQWGRDPKKM-------G--VMDLIWSAYCTEYMLVDQLGNMGTHQAQWPYLAELFITQDKDYEMDQPRYTESGGGCWAATSYRSDVKTKAKPDQRWDND-TITANNWKVSYIMPYIKHDICIWL--WRYESCIMQKMPTSPGVKQYCAIAGSYWMHHSNHINLDRDMQDVQFCSPDRESGMSYQNPCCCIQRWNQMHCGKFWCHWHTWREQWIQH---W-NW-P-WEAGKEGAEKVLRQGWRLMEGTEYVITFVDIVFGKSHEDMPYRNMTLYRPYITDKSDMGYMGNITWGAKNDCLSGKLHLYHQRDDPRFIVYVWYIFEGIGPMTILEMWFVIYVYSYVAPEFFDRDCAWDYSCNKQPMEVISEVFGPDITE-RTINRNPKDWGFHSQVYYYNSNSVLVWFYTNKAIMSS-VMSGLEG-WRSF---WD-ILCVFAMAWMDWGRMENVQTFNKAEYIQYEPMIPFFPNMPRTLWNHDIFLSTLRWIQHAAN--DYNQVQQPRMGDTQ-C-PVVGLWR-ILY-QNSWSMQW----TG-SYE--FWCTPGCWLYHTCMHCCFFFAQCHIYKNVQCMQVPCAYANYKIKIWMMIMTHLQYPGYEMSHYCVNPKIAIRHQCYHGWLGDSQNDHSYFRS--H-V-GEIWQTERKPSLRWDADEHSLALEKMTHSYNRKKVIEHTAVRELRFIQSKFTNKFPAAFGANMYCGHVQCKIAC-RWIND--RFQN-PSEK-SGHSLSLCHHNNNSFFQRKCRQTNQRFEYVNVLHNQKGCVLSVESQVN\n"
     ]
    }
   ],
   "source": [
    "## no libraries allowed except for numpy and biopython \n",
    "## no Bio.pairwise2 allowed\n",
    "\n",
    "from Bio.Align import substitution_matrices\n",
    "from numpy import zeros\n",
    "\n",
    "\n",
    "#so for this we just basically need to implement the recurrence relation from class, then do the backtracking matrix after\n",
    "def globalAlignment(x, y, sub, indel):\n",
    "    \"\"\" Calculate the global alignment between sequences x and y using\n",
    "        dynamic programming using the substitution matrix <sub>, and <indel> penalty\n",
    "        Return the full dynamic programming table. \"\"\"\n",
    "    D = zeros((len(x)+1, len(y)+1), dtype=int) # initialize a numpy matrix with zeroes\n",
    "    #first do base cases, then do the recurrence relation\n",
    "    for j in range(1, len(y)+1):\n",
    "        D[0][j] = D[0][j-1] +indel\n",
    "\n",
    "    for i in range(1, len(x)+1):\n",
    "        D[i][0] = D[i-1][0]+ indel\n",
    "\n",
    "    for i in range(1, len(x)+1):\n",
    "        for j in range(1, len(y)+1):\n",
    "            match= D[i-1][j-1] + sub[x[i-1]][y[j-1]] #this is te diagonal\n",
    "            delete = D[i-1][j] + indel\n",
    "            insert = D[i][j-1] +indel\n",
    "            D[i][j] =max(match, delete, insert)  #we just need to call this to find the max\n",
    "    ## YOUR CODE HERE\n",
    "    ## YOUR CODE HERE\n",
    "    ## YOUR CODE HERE\n",
    "    return D\n",
    "\n",
    "#we start at the end of the matrix, and then we check which case was used from that^\n",
    "#so we can reconstruct the solution\n",
    "def tracebackGlobal(V, x, y, sub, indel):\n",
    "    \"\"\" Trace back the alignment from position (len(x), len(y)) in global alignment matrix V \"\"\"\n",
    "    align1, align2 = '', ''\n",
    "    i, j = len(x), len(y) # start from the bottom right cell\n",
    "    while i>0 and j>0:\n",
    "        if V[i][j] == V[i-1][j-1] + sub[x[i-1]][y[j-1]]: #if its diagonal\n",
    "            align1 = align1 +x[i-1]\n",
    "            align2= align2 +y[j-1]\n",
    "            i=i-1\n",
    "            j=j-1 \n",
    "\n",
    "        elif V[i][j] == V[i-1][j] + indel: #means theres a gap at y (u go up)\n",
    "            align1 = align1 + x[i-1] #we add the character from x\n",
    "            align2 = align2 +'-'\n",
    "            i=i-1\n",
    "\n",
    "        else: #gap at x\n",
    "            align1 = align1 +'-' \n",
    "            align2 = align2 + y[j-1] #add the character from y\n",
    "            j=j-1\n",
    "    if i==0: #add edge cases, if one of them hits 0 but the other doesnt, we need to keep going (this was why I was failing my tests)\n",
    "        while j>0:\n",
    "            align1 =align1+'-'\n",
    "            align2=align2  +y[j-1]\n",
    "            j=j-1\n",
    "    if j==0:\n",
    "        while i>0:\n",
    "            align1=align1 +x[i-1]\n",
    "            align2=align2+'-'\n",
    "            i=i-1\n",
    "        \n",
    "            \n",
    "    \n",
    "    ## YOUR CODE HERE\n",
    "    ## YOUR CODE HERE\n",
    "    ## YOUR CODE HERE\n",
    "    return align1[::-1]+'\\n'+align2[::-1]  # reverse the strings\n",
    "\n",
    "f = open(\"hw4_test15.txt\", \"r\")                                # open the file\n",
    "blosum62 = substitution_matrices.load('BLOSUM62') # possible matrices are ['BENNER22', 'BENNER6', 'BENNER74', 'BLOSUM45', 'BLOSUM50', 'BLOSUM62', 'BLOSUM80', 'BLOSUM90', 'DAYHOFF', 'FENG', 'GENETIC', 'GONNET1992', 'HOXD70', 'JOHNSON', 'JONES', 'LEVIN', 'MCLACHLAN', 'MDM78', 'NUC.4.4', 'PAM250', 'PAM30', 'PAM70', 'RAO', 'RISLER', 'SCHNEIDER', 'STR', 'TRANS']\n",
    "# blosum62 is a numpy matrix\n",
    "# here is how to access the substitution cost for the aminoacid pair (A,M)\n",
    "#print(blosum62.get('A').get('M'))\n",
    "p1 = f.readline().strip()                                     # read the first string\n",
    "p2 = f.readline().strip()                                     # read the second string\n",
    "\n",
    "M = globalAlignment(p1, p2, blosum62, -5)                     # compute the dynamic programming matrix betwen p1 and p2, using the substitution matrix and indel penalty\n",
    "# The dynamic programming matrix for this input should be\n",
    "#[[  0  -5 -10 -15 -20 -25 -30]\n",
    "# [ -5  -2  -6 -11 -16 -21 -26]\n",
    "# [-10  -3  -5  -7 -12 -12 -17]\n",
    "# [-15  -8   2  -3  -7 -12 -14]\n",
    "# [-20 -13  -3   6   1  -4  -9]\n",
    "# [-25 -18  -8   1   7   2  -3]\n",
    "# [-30 -23 -13  -4   2   6   1]\n",
    "# [-35 -28 -18  -9   2   1   4]\n",
    "# [-40 -33 -23 -14  -3   1  -1]\n",
    "# [-45 -38 -28 -19  -8   1   0]\n",
    "# [-50 -43 -33 -24 -13  -4   8]]\n",
    "print(M)\n",
    "print(M[len(p1),len(p2)])                                     # alignment score in on lower right corner cell\n",
    "print(tracebackGlobal(M, p1, p2, blosum62, -5))               # print alignment"
   ]
  },
  {
   "cell_type": "markdown",
   "metadata": {},
   "source": [
    "<hr style=\"height:5px;border-width:2;color:gray;background-color:#000000\"> \n",
    "<center><h1>Local Sequence Alignment</h1></center>\n",
    "<br>\n"
   ]
  },
  {
   "cell_type": "markdown",
   "metadata": {},
   "source": [
    "<div style=\"color: #000000;background-color: #EEFFEE\">\n",
    "    <font size=+2>Question 2</font><font size=+1> (15 points)</font>\n",
    "\n",
    "Solve the <A HREF=\"https://cogniterra.org/lesson/34016/step/10?unit=25862\">Local Alignment Problem.</A> Submit your solution to the challenge on Cogniterra and paste your Python code below.\n",
    "\n",
    "Notes:\n",
    "<ul>\n",
    "<li>We are providing code to access the pam250 matrix via Biopython, so that you do not have to parse the matrix from the book</li>\n",
    "<li>There could be multiple optimal alignments for the same input, i.e., multiple alignments with the same maximum score, but the book accepts any optimal solution</li>\n",
    "<li>For tracing the alignment back, you can either reconstruct the optimal path on the dynamic programming table containing the scores, or you can produce a separate table of traceback pointers</li>\n",
    "</ul>\n",
    "</div>"
   ]
  },
  {
   "cell_type": "code",
   "execution_count": 1,
   "metadata": {},
   "outputs": [
    {
     "name": "stdout",
     "output_type": "stream",
     "text": [
      "--2025-05-04 22:56:56--  http://www.cs.ucr.edu/~stelo/cs144/data/hw4_test2.txt\n",
      "Resolving www.cs.ucr.edu (www.cs.ucr.edu)... 169.235.30.15\n",
      "Connecting to www.cs.ucr.edu (www.cs.ucr.edu)|169.235.30.15|:80... connected.\n",
      "HTTP request sent, awaiting response... 200 OK\n",
      "Length: 15 [text/plain]\n",
      "Saving to: ‘hw4_test2.txt’\n",
      "\n",
      "hw4_test2.txt       100%[===================>]      15  --.-KB/s    in 0s      \n",
      "\n",
      "2025-05-04 22:56:56 (2.37 MB/s) - ‘hw4_test2.txt’ saved [15/15]\n",
      "\n"
     ]
    }
   ],
   "source": [
    "!wget http://www.cs.ucr.edu/~stelo/cs144/data/hw4_test2.txt"
   ]
  },
  {
   "cell_type": "code",
   "execution_count": 1,
   "metadata": {},
   "outputs": [
    {
     "name": "stdout",
     "output_type": "stream",
     "text": [
      "1121\n",
      "NGNQMSWGPVDDEIYSAKFQFVWTRD-NMKWE-EPIFPSSQCDVDDA-EYFIDL-IVEY---EP--WHMCVTPRMLLAFKCF-AR-QDSVFRHLQA--RVERSQVFDIFDCCV-K-W-CWCNEHQTRSHPSM---NETAYAAYD-PIPYLHSNEQVMHEAKWMPHMFW-I-IG-WTFRGSVAEPPPWICISRYTRWVACSQNCLILNWSDDWMEKC-RWSDINWCTAEMRTGIHELEDFSYIYRLHHASFEQRVNGVRVNVGWSCWQDWAMYEIAE-E-Y-WHMLLWSVNPRVAPIY-WSWAIDKPCNYMRWSDEDCGARMHVHIQPLSSCLQRWYNSKQIRVHCCMQKFVNTIKTRCRWFMEPHNPYQPQISKWPWIYYLNEIDMHSYQRMNDVNRTRCQIEQEPPKYDRGRCHATCQPDTSRQQNFFPVEQHLREGSHRIDYGDECLLMPKTGIKIKCYEKYDFDGKDAKIPSWGGAQSNFMGQ--G--REQNPTVHMICKYLHIQTSQTFVLPD-----G--PDMMTWPWY------K--GRDQYTP-KDMSEQRYGI-DIQ-YH-QKY---MHMRISKSFRGATEWIDRIPWAC-RNVAK-RF--R-A--ILVFYQTVRVPVMKLYIFYVEQWCRGRMHAEKARPFWPFEENINMHSNNGRWESV-AWLDGWAWTDKLWELAERFDTWQDTICLH-RDFYYVEESQLTKL-QRNYFPL-MAPYCMCWEDRCSSYRDVPFCYANPDTIVHQYLSRHWEDPYFCDSAQWWIVNIWYTFFPKYNNMGDPKGFEVCPRITIWGYESTHPLLA-PPVK-GQVQNVICCEYSTFDFCGGWS-KTLGT-PKHLMIDSWTPKNSGGPC-RDR-CWET-LMA--VASEI-ECVDVAHYMTCFYTFVRYSTPFIFPTQCAIPKAASEENPFCWLYW-CLHASK--AHISIY-NNMRH\n",
      "ESHHMH-HPI--VIVVSKY-LKDPMHFQLNHQSEQFFVCNAVGKETTVQFYMEVEIGEYFGHDPLAWLMVICCDFMPTF-FYRPNYKGAMYQEPDKLCEMQHNECVPIFHQGLFQPWHHWRTMKNRKGERDMGAWKEPSWSNKGRRILQLKCPDHFSNFYE-VPKI-WQADEGCWD-EITICE-SPFNCAKRHDREVV-VVD-MGVGFDMFRLRVCGTKTIMERHPCEFINGESRWEP-ERI-VLGHQ-FLPH-DS-P-G-DWKTEKEYSIQELTEREQLSWDG--WRYYPTSQFVSDW-WSIDKYC--MR--QSDTHRRMHVHIQPLSSCLQRWYNS--V-VHCCMQKFVSTIKTRIMWCVAARNPY--------WIYYQNEIDMN---R-TGTNHNHCQIEQEPPKYDRGR---TCQPDTSRQQNFFPVEQHL-----R-D--N-CLLMP--AI-M----M--FDGKDAKIPSWGGMQSLPMGQIRGFCTGQNPTGG-T-TFMRRQTSQTFVLPDSCFMTGPPPDMMTQEWYRHCIPGKANGRDQYTVWKDMSEKRYGITQSRCYHIIKYHQKMHMRKSKSFRGATEWIDPMN-NCARDIPMARYIMHTSVIILVFYQTVRVPV---YIFYVEQWCRGRM------P--C-EENI-----N-RWESVCPQLH--AW---LWEGAMRFDTWQDTIPNHARHIYWLNPSC-RKWRQWQCEQVRMKHW-R-WRWWAMT-HDVP-SYSMVDN-LYRYQVMG-TTRFFLDMNH---VNTPYA-WPPY--L-NA-AY-L--H-GMWD-ERMHTFLEFRDANWLDVRVPI-SEYCYWDFDEDTEYKD-ETWP-NMGI-GWEHMHVTDMCINNKFCLKTHFKGYDVLTQVCRCIDINLHKH-F-G-MS-KAPMCKALH-DIKTMPGHEVQWEWDFLMCYYNSACYGTLEVYTADARR\n"
     ]
    }
   ],
   "source": [
    "## no libraries allowed except for numpy, itertools and biopython\n",
    "## no Bio.pairwise2 allowed\n",
    "\n",
    "from numpy import zeros, where, unravel_index, argmax, shape\n",
    "from Bio.Align import substitution_matrices\n",
    "\n",
    "def localAlignment(x, y, sub, indel):\n",
    "    ''' Calculate local alignment values of sequences x and y using\n",
    "        dynamic programming.  Returns the dynamic programming table and\n",
    "        the matrix of traceback pointer (0,1,2,3) where 0: stop, 1: diagonal, 2: up, 3: left '''\n",
    "    D = zeros((len(x)+1, len(y)+1), dtype=int) # numpy matrix for scores\n",
    "    T = zeros((len(x)+1, len(y)+1), dtype=int) # numpy matrix for pointers (0: stop, 1: diagonal, 2: up, 3: left)\n",
    "    ## YOUR CODE HERE\n",
    "    ## YOUR CODE HERE\n",
    "    ## YOUR CODE HERE\n",
    "\n",
    "    for i in range(1, len(x)+1):\n",
    "        for j in range(1, len(y)+1):  #same as previous question\n",
    "            match= D[i-1][j-1] + sub[x[i-1]][y[j-1]] #this is te diagonal\n",
    "            delete = D[i-1][j] + indel\n",
    "            insert = D[i][j-1] +indel\n",
    "            score =max(0,match, delete, insert)\n",
    "            D[i][j] =score  #we just need to call this to find the max\n",
    "            if score ==0:\n",
    "                T[i][j]=0  #here we just use the pointers so we can access the local\n",
    "            elif score == match:\n",
    "                T[i][j]=1\n",
    "            elif score == delete:\n",
    "                T[i][j]=2\n",
    "            else:\n",
    "                T[i][j] =3\n",
    "    return D,T\n",
    "\n",
    "def tracebackLocal(T, x, y, i, j):\n",
    "    \"\"\" Trace back the alignment from position (i,j) in\n",
    "        matrix T of traceback pointers for strings x and y.\n",
    "        Returns an alignment string \"\"\"\n",
    "    align1, align2 = '', ''\n",
    "    while T[i][j]!=0: #instead of >, we use equal bc the pointers will reset. where the local alignment starts\n",
    "        if T[i][j]==1: #came from the diagonal\n",
    "            align1 = align1 +x[i-1]\n",
    "            align2=align2 +y[j-1]\n",
    "            i=i-1 #moves up and left one (diagonal)\n",
    "            j=j-1\n",
    "        elif T[i][j]==2: #gap in y, so we move up\n",
    "            align1=align1+x[i-1]\n",
    "            align2=align2 +'-'\n",
    "            i=i-1 \n",
    "        elif T[i][j]==3: #gap in x\n",
    "            align1 = align1 + '-'\n",
    "            align2 = align2 +y[j-1] #add the characyer from  y\n",
    "            j=j-1\n",
    "            \n",
    "    ## YOUR CODE HERE\n",
    "    ## YOUR CODE HERE\n",
    "    ## YOUR CODE HERE\n",
    "    return align1[::-1]+'\\n'+align2[::-1] # reverse the strings\n",
    "\n",
    "f = open(\"hw4_test21.txt\", \"r\")                                # open the file\n",
    "p1 = f.readline().strip()                                     # read the first string\n",
    "p2 = f.readline().strip()                                     # read the second string\n",
    "\n",
    "pam250 = substitution_matrices.load('PAM250') # possible matrices are ['BENNER22', 'BENNER6', 'BENNER74', 'BLOSUM45', 'BLOSUM50', 'BLOSUM62', 'BLOSUM80', 'BLOSUM90', 'DAYHOFF', 'FENG', 'GENETIC', 'GONNET1992', 'HOXD70', 'JOHNSON', 'JONES', 'LEVIN', 'MCLACHLAN', 'MDM78', 'NUC.4.4', 'PAM250', 'PAM30', 'PAM70', 'RAO', 'RISLER', 'SCHNEIDER', 'STR', 'TRANS']\n",
    "# pam250 is a numpy matrix\n",
    "# here is how to access the substitution cost for aminoacid pair (A,M)\n",
    "# print(pam250.get('A').get('M'))\n",
    "\n",
    "M,T = localAlignment(p1, p2, pam250, -5)      # compute the dynamic programming matrix and traceback pointers, -5 is the penalty for indel\n",
    "(i,j) = unravel_index(argmax(M), M.shape)     # index of the max in the matrix using numpy\n",
    "# The dynamic programming matrix for this input should be\n",
    "#[[ 0  0  0  0  0  0  0  0]\n",
    "# [ 0  0  0  0  0  4  0  0]\n",
    "# [ 0  0  4  1  0  0  4  0]\n",
    "# [ 0  1  0  4  3  0  1  1]\n",
    "# [ 0  0  2  2  4  0  0  0]\n",
    "# [ 0  0  0  0  0 10  5  0]\n",
    "# [ 0  0  0  0  0  5  7 15]]\n",
    "print(M.max())                                # alignment score is the max in the matrix\n",
    "print(tracebackLocal(T, p1, p2, i, j))        # print alignment"
   ]
  },
  {
   "cell_type": "code",
   "execution_count": null,
   "metadata": {},
   "outputs": [],
   "source": []
  }
 ],
 "metadata": {
  "kernelspec": {
   "display_name": "UCR CS 144",
   "language": "python",
   "name": "cs144_spring2021"
  },
  "language_info": {
   "codemirror_mode": {
    "name": "ipython",
    "version": 3
   },
   "file_extension": ".py",
   "mimetype": "text/x-python",
   "name": "python",
   "nbconvert_exporter": "python",
   "pygments_lexer": "ipython3",
   "version": "3.8.5"
  }
 },
 "nbformat": 4,
 "nbformat_minor": 4
}
