{
 "cells": [
  {
   "cell_type": "markdown",
   "metadata": {},
   "source": [
    "<hr style=\"height:5px;border-width:2;color:gray;background-color:#000000\"> \n",
    "<center><h1>CS 144 - Spring 2025 - Homework 3</h1></center>\n",
    "<center><h1>Due: Sunday, April 27, 2025 @ 11:59pm</h1></center>"
   ]
  },
  {
   "cell_type": "markdown",
   "metadata": {},
   "source": [
    "## Read *all* cells carefully and answer all parts (both text and code)"
   ]
  },
  {
   "cell_type": "markdown",
   "metadata": {},
   "source": [
    "### Enter your information below:\n",
    "\n",
    "<div style=\"color: #000000;background-color: #EEEEFF\">\n",
    "    Your Name (submitter):  <br>\n",
    "    Your student ID (submitter):\n",
    "<br>\n",
    "<br>\n",
    "<b>By submitting this notebook, I assert that the work below is my own work, completed for this course.  Except where explicitly cited, none of the portions of this notebook are duplicated from anyone else's work or my own previous work.</b>\n",
    "<br>    \n",
    "<br>\n",
    "<b>Instruction for submissions:</B> when you have completed this homework, download this .ipynb file to your computer by left-clicking on the file name, and submit to <a href=\"https://elearn.ucr.edu/\">Canvas</A> by the deadline. \n",
    "<br>\n",
    "<br>\n",
    "<B>Late work:</B> Each student is granted five \"late days\" which can be used (in integer units) on any of the homework. If a more dire situation arises, please contact the instructor. DO NOT RESORT TO CHEATING.\n",
    "</div>\n"
   ]
  },
  {
   "cell_type": "markdown",
   "metadata": {},
   "source": [
    "<hr style=\"height:5px;border-width:2;color:gray;background-color:#000000\"> \n",
    "<center><h1>Question 1: Suffix arrays</h1></center>\n",
    "<br>\n",
    "\n",
    "A suffix array is a simple data structure composed by the sorted list of the suffixes of a given string. A suffix array enables string matching, as well as other text processing operations (e.g., k-mer count, repeated substrings, etc). It is more compact than a suffix tree and is amenable to storage in secondary memory."
   ]
  },
  {
   "cell_type": "markdown",
   "metadata": {},
   "source": [
    "<div style=\"color: #000000;background-color: #EEFFEE\">\n",
    "    <font size=+2>Question 1.1:</font> <font size=+1>(10 points)</font>\n",
    "<br>\n",
    "Solve the <A HREF=\"https://cogniterra.org/lesson/51900/step/2?unit=43389\">Code Challenge: Solve the Suffix Array Construction Problem.</A> Submit your solution to the challenge on Cogniterra and paste your Python code below.\n",
    "</div>"
   ]
  },
  {
   "cell_type": "code",
   "execution_count": 4,
   "metadata": {},
   "outputs": [
    {
     "name": "stdout",
     "output_type": "stream",
     "text": [
      "--2025-04-26 13:57:45--  http://www.cs.ucr.edu/~stelo/cs144/data/hw3_test1.txt\n",
      "Resolving www.cs.ucr.edu (www.cs.ucr.edu)... 169.235.30.15\n",
      "Connecting to www.cs.ucr.edu (www.cs.ucr.edu)|169.235.30.15|:80... connected.\n",
      "HTTP request sent, awaiting response... 200 OK\n",
      "Length: 17 [text/plain]\n",
      "Saving to: ‘hw3_test1.txt.1’\n",
      "\n",
      "hw3_test1.txt.1     100%[===================>]      17  --.-KB/s    in 0s      \n",
      "\n",
      "2025-04-26 13:57:45 (2.54 MB/s) - ‘hw3_test1.txt.1’ saved [17/17]\n",
      "\n"
     ]
    }
   ],
   "source": [
    "!wget http://www.cs.ucr.edu/~stelo/cs144/data/hw3_test1.txt"
   ]
  },
  {
   "cell_type": "code",
   "execution_count": 7,
   "metadata": {},
   "outputs": [
    {
     "name": "stdout",
     "output_type": "stream",
     "text": [
      "881, 184, 752, 382, 1, 495, 675, 359, 542, 842, 400, 350, 185, 753, 383, 58, 476, 253, 878, 2, 45, 647, 786, 307, 131, 496, 505, 722, 676, 630, 297, 360, 490, 691, 535, 543, 769, 860, 622, 457, 283, 801, 843, 209, 637, 401, 703, 268, 351, 781, 596, 707, 726, 141, 435, 625, 186, 754, 460, 384, 59, 836, 477, 730, 254, 72, 204, 879, 689, 858, 562, 163, 3, 564, 571, 247, 695, 46, 869, 648, 552, 165, 787, 660, 308, 5, 653, 278, 132, 832, 713, 497, 506, 315, 80, 152, 723, 677, 10, 303, 159, 631, 430, 298, 391, 361, 442, 491, 193, 525, 692, 536, 453, 566, 219, 573, 544, 737, 145, 102, 770, 339, 819, 684, 861, 588, 94, 380, 251, 645, 784, 281, 623, 458, 560, 389, 817, 249, 697, 743, 36, 48, 108, 668, 287, 557, 284, 802, 844, 465, 273, 871, 650, 665, 554, 699, 368, 599, 745, 320, 210, 638, 402, 38, 473, 704, 450, 33, 269, 52, 582, 22, 167, 420, 718, 680, 412, 352, 197, 119, 231, 175, 182, 540, 56, 635, 202, 735, 586, 782, 597, 50, 485, 708, 502, 487, 798, 727, 142, 436, 519, 110, 13, 626, 515, 187, 610, 755, 789, 855, 427, 662, 365, 124, 461, 29, 670, 289, 385, 310, 848, 325, 60, 837, 478, 710, 7, 91, 731, 255, 655, 236, 135, 73, 127, 205, 616, 262, 880, 751, 0, 306, 504, 489, 690, 859, 621, 800, 702, 434, 835, 729, 162, 563, 570, 246, 551, 164, 4, 565, 572, 144, 101, 338, 644, 280, 559, 248, 696, 47, 107, 286, 464, 272, 870, 649, 553, 319, 32, 166, 717, 174, 539, 55, 634, 201, 734, 585, 501, 797, 609, 788, 661, 123, 309, 6, 90, 654, 235, 134, 615, 261, 620, 433, 834, 245, 100, 337, 643, 279, 106, 716, 173, 500, 796, 133, 260, 833, 244, 336, 642, 715, 172, 499, 243, 714, 498, 329, 371, 507, 438, 521, 804, 112, 330, 372, 416, 826, 508, 439, 522, 316, 805, 15, 81, 113, 25, 331, 153, 373, 774, 294, 866, 417, 763, 827, 509, 530, 673, 398, 724, 301, 440, 191, 523, 678, 11, 846, 304, 160, 317, 632, 431, 258, 170, 299, 392, 223, 806, 467, 275, 409, 228, 362, 406, 394, 16, 82, 114, 443, 423, 492, 194, 26, 760, 225, 808, 813, 332, 526, 154, 374, 775, 357, 628, 295, 767, 693, 867, 658, 20, 418, 483, 517, 537, 794, 824, 292, 189, 811, 454, 593, 567, 612, 220, 757, 764, 791, 574, 545, 873, 239, 738, 146, 343, 103, 771, 340, 828, 820, 510, 531, 685, 469, 86, 862, 589, 577, 64, 602, 95, 381, 674, 841, 399, 349, 252, 44, 646, 785, 721, 456, 282, 780, 595, 725, 140, 624, 459, 857, 561, 652, 277, 831, 302, 158, 429, 390, 441, 192, 524, 218, 818, 683, 250, 388, 742, 667, 556, 664, 698, 367, 744, 37, 449, 581, 679, 411, 118, 230, 49, 109, 12, 364, 669, 288, 847, 126, 750, 305, 701, 161, 569, 550, 558, 285, 463, 318, 31, 633, 614, 432, 259, 171, 370, 803, 415, 672, 397, 300, 845, 222, 466, 274, 408, 393, 759, 224, 807, 356, 766, 19, 793, 823, 291, 872, 468, 85, 576, 601, 348, 139, 651, 276, 387, 666, 555, 448, 410, 117, 229, 363, 749, 700, 549, 369, 396, 407, 355, 18, 84, 600, 138, 116, 748, 548, 395, 17, 83, 115, 747, 547, 746, 68, 321, 444, 211, 875, 69, 312, 424, 322, 606, 639, 403, 215, 445, 212, 850, 39, 493, 474, 876, 705, 70, 313, 78, 150, 451, 378, 34, 195, 180, 513, 853, 425, 27, 323, 270, 53, 583, 607, 640, 241, 327, 23, 761, 168, 226, 404, 421, 809, 62, 839, 42, 719, 216, 681, 740, 413, 446, 353, 213, 76, 148, 851, 40, 814, 198, 120, 232, 333, 527, 480, 155, 345, 375, 776, 176, 183, 494, 358, 541, 57, 475, 877, 130, 629, 296, 534, 768, 208, 636, 267, 706, 71, 203, 688, 694, 868, 659, 712, 314, 79, 151, 9, 452, 736, 587, 93, 379, 783, 816, 35, 598, 472, 51, 21, 419, 196, 181, 484, 486, 518, 514, 854, 426, 28, 324, 709, 503, 488, 799, 728, 143, 271, 538, 54, 200, 733, 584, 608, 122, 89, 234, 619, 99, 105, 795, 335, 641, 242, 328, 437, 520, 111, 825, 14, 24, 773, 293, 865, 762, 529, 190, 257, 169, 227, 405, 422, 812, 627, 657, 482, 516, 188, 810, 592, 611, 756, 790, 238, 342, 63, 840, 43, 720, 455, 779, 594, 856, 830, 157, 428, 217, 682, 741, 663, 366, 580, 125, 568, 462, 30, 613, 414, 671, 221, 758, 765, 792, 822, 290, 575, 347, 386, 447, 354, 137, 546, 67, 874, 311, 605, 214, 849, 77, 149, 377, 179, 512, 852, 240, 326, 61, 838, 41, 739, 75, 147, 479, 344, 129, 533, 207, 266, 687, 711, 8, 92, 815, 471, 199, 732, 121, 88, 233, 618, 98, 104, 334, 772, 864, 528, 256, 656, 481, 591, 237, 341, 778, 829, 156, 579, 821, 346, 136, 66, 604, 376, 178, 511, 74, 128, 532, 206, 265, 686, 470, 87, 617, 97, 863, 590, 777, 578, 65, 603, 177, 264, 96, 263\n"
     ]
    }
   ],
   "source": [
    "## no libraries allowed\n",
    "## for this, we just need to break down the text into its substrings, and then sort them in alphabetical order, and the suffix array will \n",
    "## demonstrate the position of the substring in the entire text\n",
    "# we use the sorted function from discussion notebook\n",
    "\n",
    "#we need to first break down the string into all of its substrings using a loop, then we sort all the substrings we created and tie them to their \n",
    "#location in the text. \n",
    "\n",
    "## actually no, python is able to do that with sorted + lambda so we don't need to do mapping like we would in c++\n",
    "\n",
    "def suffixArray(t):\n",
    "    \"\"\"computes the suffix array of string t by sorting all suffixes of t\"\"\"\n",
    "    suffixes = list(range(len(t))) #this will create a list with all the suffixes within the lenght of the original text\n",
    "    suffixes.sort(key=lambda i: t[i:]) #then we can just sort the suffixes ! instead of having to tie the word with the suffix, the index keeps track of where the word is in the text\n",
    "    return suffixes\n",
    "\n",
    "f = open(\"hw3_test11.txt\", \"r\")         # open the file\n",
    "text = f.readline().strip()            # text is on the first line\n",
    "s = suffixArray(text)                  \n",
    "print(', '.join(map(str,s)))            # expected output 15 14 0 1 12 6 4 2 8 13 3 7 9 10 11 5"
   ]
  },
  {
   "cell_type": "markdown",
   "metadata": {},
   "source": [
    "<hr style=\"height:5px;border-width:2;color:gray;background-color:#000000\"> \n",
    "<center><h1>Question 2: Burrows-Wheeler Transform</h1></center> \n",
    "<br>\n",
    "\n",
    "In 1994, Burrows and Wheeler proposed a block-oriented compression algorithm based on a new <A href=\"https://github.com/tpn/pdfs/blob/master/A%20Block-sorting%20Lossless%20Data%20Compression%20Algorithm%20-%20May%2010th%2C%201994%20(SRC-RR-124).pdf\">reversible transformation</A>. The transformation, known as Burrows-Wheeler Transform (BWT), rearranges the input sequence $S$ from a domain (or an alphabet) $\\Sigma$, into sequence $B$ of the same domain, $B=BWT(S)$, in such a way that most of the same symbols from $S$ are close together in $B$. In addition to data compression, the BWT also allows efficient exact and approximate string matching in $B$ (e.g., the <A href=\"https://en.wikipedia.org/wiki/FM-index\">FM-index</A>).\n",
    "\n",
    "We will <b>skip</b> the following three coding challenges on the BWT in the book\n",
    "<UL>\n",
    "<LI><A HREF=\"https://cogniterra.org/lesson/51904/step/8?unit=43393\">Code Challenge: Implement BWMatching.</A></LI>\n",
    "<LI><A HREF=\"https://cogniterra.org/lesson/51905/step/7?unit=43394\">Code Challenge: Implement BetterBWMatching.</A></LI>\n",
    "<LI><A HREF=\"https://cogniterra.org/lesson/51907/step/4?unit=43396\">Code Challenge: Solve the Multiple Pattern Matching Problem.</A></LI>\n",
    "</UL>\n",
    "Again, those three challenges above are OPTIONAL. They are good problems, but you do not need to solve it, unless you feel inclined to do so."
   ]
  },
  {
   "cell_type": "markdown",
   "metadata": {},
   "source": [
    "<div style=\"color: #000000;background-color: #EEFFEE\">\n",
    "    <font size=+2>Question 2.1:</font> <font size=+1>(10 points)</font>\n",
    "<br>\n",
    "Solve the <A HREF=\"https://cogniterra.org/lesson/51901/step/5?unit=43390\">Code Challenge: Solve the Burrows-Wheeler Transform Construction Problem.</A> Submit your solution to the challenge on Cogniterra and paste your Python code below. You can call the suffix array above, if you want.\n",
    "</div>"
   ]
  },
  {
   "cell_type": "code",
   "execution_count": 3,
   "metadata": {},
   "outputs": [
    {
     "name": "stdout",
     "output_type": "stream",
     "text": [
      "--2025-04-27 13:38:35--  http://www.cs.ucr.edu/~stelo/cs144/data/hw3_test2.txt\n",
      "Resolving www.cs.ucr.edu (www.cs.ucr.edu)... 169.235.30.15\n",
      "Connecting to www.cs.ucr.edu (www.cs.ucr.edu)|169.235.30.15|:80... connected.\n",
      "HTTP request sent, awaiting response... 200 OK\n",
      "Length: 15 [text/plain]\n",
      "Saving to: ‘hw3_test2.txt.2’\n",
      "\n",
      "hw3_test2.txt.2     100%[===================>]      15  --.-KB/s    in 0s      \n",
      "\n",
      "2025-04-27 13:38:35 (1.76 MB/s) - ‘hw3_test2.txt.2’ saved [15/15]\n",
      "\n"
     ]
    }
   ],
   "source": [
    "!wget http://www.cs.ucr.edu/~stelo/cs144/data/hw3_test2.txt"
   ]
  },
  {
   "cell_type": "code",
   "execution_count": 1,
   "metadata": {},
   "outputs": [
    {
     "name": "stdout",
     "output_type": "stream",
     "text": [
      "TTAGTTTGCCGACGAAGCCACATTTGTTCGGCTTCGTGAATTTTGGTAGCTGAGCTATATAAAGTATGCCATACACTAGGTCGAGGACGTGGTAACGGGACCGGCCGGGGTTACCTAACCGTACGG$TCGACCATAACGTGATCTGAGACCCCCTTAAGACACTGTAGCTACCCGTGACGTTGGCGCTAGTGTTGACAAGATGAAAGGGGCCATATACCACCTAGGCTCTATACACGCCCGGATGATGATGGTCGGACCCTCGTCCGCCGTCCTTCGTTTGCGGCAAGTGGGTGGCTATCTTGCTAGATTGGTTGCCCTCGGACCCTTTTGAATTTTAAATTGGAACGTACTAATCCTATCGTAAAAAATGTAGAACGTTGGGTGGGAGCAGCATCTCCGATTAGAGCCCGCCCGCATGCGGGTTTACTGAGTCCCGCTGGAATGGGCTAACGTGGCTTGCTGATCAATGTCCACCCAAAAAAATGATGCGCTAAAAATCATGACGATGACGCTCTCTGGTATACAGTGTGGCTTTTCTAAACTTTGGCAGTGCAGTTTCTAAAAGATTTGTTATCCGGGCACCCTACCGGTGACTCTTGGGCTGGAGTGACTGAACTTGTCTTCGGAGAACCGCATACACAGAGGACGCAAGGCTGTTCATTGTCTGAAGCTCAGGATGAAAGCTTCTCCCTCCTCTAAGGATTGAGTATCCGAAGGCGGGAATCGGAGCAAAGATCGTAGAGGGAGGAGACAACAGTCGGTTTCACTAAGTGCTGGGCAAGTCCCACGTCTCCCGGCGATAGATCG\n"
     ]
    }
   ],
   "source": [
    "## no libraries allowed\n",
    "\n",
    "def bwt(t):\n",
    "    '''computes the BWT(t), where t is a string'''\n",
    "    ## YOUR CODE HERE\n",
    "    rotations =[]\n",
    "    for idx in range(len(t), 0, -1):  #create the rotations [from discussion slides]\n",
    "        rotations.append(t[idx:] + t[:idx]) #build all the rotations of the string and append into rotations (where theyre stored)\n",
    "    rotations.sort() #sort the rotations \n",
    "    ## YOUR CODE HERE\n",
    "    return ''.join(rotation[-1] for rotation in rotations) #join will output everything into a string\n",
    "\n",
    "f = open(\"hw3_test2.txt\", \"r\")         # open the file\n",
    "text = f.readline().strip()            # text is on the first line\n",
    "print(bwt(text))                       # expected output ACTGGCT$TGCGGC"
   ]
  },
  {
   "cell_type": "markdown",
   "metadata": {},
   "source": [
    "<div style=\"color: #000000;background-color: #EEFFEE\">\n",
    "    <font size=+2>Question 2.2:</font> <font size=+1>(10 points)</font>\n",
    "<br>\n",
    "Solve the <A HREF=\"https://cogniterra.org/lesson/51903/step/10?unit=43392\">Code Challenge: Solve the Inverse Burrows-Wheeler Transform Problem.</A> Submit your solution to the challenge on Cogniterra and paste your Python code below.\n",
    "</div>"
   ]
  },
  {
   "cell_type": "code",
   "execution_count": null,
   "metadata": {},
   "outputs": [],
   "source": [
    "!wget http://www.cs.ucr.edu/~stelo/cs144/data/hw3_test3.txt"
   ]
  },
  {
   "cell_type": "code",
   "execution_count": null,
   "metadata": {},
   "outputs": [],
   "source": [
    "## no libraries allowed\n",
    "## so it's sorted, meaning we need to \"unsort\" it ...\n",
    "def reverseBwt(t):\n",
    "    '''computes the inverse of the BWT, where t is a string'''\n",
    "    \n",
    "    #so here, we are given the transform, and we want to find the original text. we need to reverse engineer the previous problem basically\n",
    "    total = len(t)\n",
    "    inverses = ['']+total   #initialize a inverses instead of a rotations, start with the empty  strings ( the amount of the lenght of the transform\n",
    "    for suffix in range(total):\n",
    "\n",
    "    #we need to un sort the transform\n",
    "    ## YOUR CODE HERE\n",
    "    ## YOUR CODE HERE\n",
    "    return t\n",
    "\n",
    "f = open(\"hw3_test3.txt\", \"r\")         # open the file\n",
    "text = f.readline().strip()            # text is on the first line\n",
    "print(reverseBwt(text))                # expected output TACATCACGT$"
   ]
  },
  {
   "cell_type": "code",
   "execution_count": null,
   "metadata": {},
   "outputs": [],
   "source": []
  }
 ],
 "metadata": {
  "kernelspec": {
   "display_name": "UCR CS 144",
   "language": "python",
   "name": "cs144_spring2021"
  },
  "language_info": {
   "codemirror_mode": {
    "name": "ipython",
    "version": 3
   },
   "file_extension": ".py",
   "mimetype": "text/x-python",
   "name": "python",
   "nbconvert_exporter": "python",
   "pygments_lexer": "ipython3",
   "version": "3.8.5"
  }
 },
 "nbformat": 4,
 "nbformat_minor": 4
}
