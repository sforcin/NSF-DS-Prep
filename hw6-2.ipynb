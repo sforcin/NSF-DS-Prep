{
 "cells": [
  {
   "cell_type": "markdown",
   "metadata": {},
   "source": [
    "<hr style=\"height:5px;border-width:2;color:gray;background-color:#000000\"> \n",
    "<center><h1>CS 144 - Spring 2025 - Homework 6</h1></center>\n",
    "<center><h1>Due: Sunday, May 25, 2025 @ 11:59pm</h1></center>"
   ]
  },
  {
   "cell_type": "markdown",
   "metadata": {},
   "source": [
    "## Read *all* cells carefully and answer all parts (both text and code)"
   ]
  },
  {
   "cell_type": "markdown",
   "metadata": {},
   "source": [
    "### Enter your information below:\n",
    "\n",
    "<div style=\"color: #000000;background-color: #EEEEFF\">\n",
    "    Your Name (submitter): isabela sforcin  <br>\n",
    "    Your student ID (submitter): ialve001\n",
    "<br>\n",
    "<br>\n",
    "<b>By submitting this notebook, I assert that the work below is my own work, completed for this course.  Except where explicitly cited, none of the portions of this notebook are duplicated from anyone else's work or my own previous work.</b>\n",
    "<br>    \n",
    "<br>\n",
    "<b>Instruction for submissions:</B> when you have completed this homework, download this .ipynb file to your computer by left-clicking on the file name, and submit to <a href=\"https://elearn.ucr.edu/\">Canvas</A> by the deadline. \n",
    "<br>\n",
    "<br>\n",
    "<B>Late work:</B> Each student is granted five \"late days\" which can be used (in integer units) on any of the homework. If a more dire situation arises, please contact the instructor. DO NOT RESORT TO CHEATING.\n",
    "</div>\n"
   ]
  },
  {
   "cell_type": "markdown",
   "metadata": {},
   "source": [
    "<hr style=\"height:5px;border-width:2;color:gray;background-color:#000000\"> \n",
    "<center><h1>Chapter 5: HMM</h1></center> \n",
    "<br>\n",
    "\n",
    "As usual, in the interest of time, we will <b>skip</b> the following coding challenges on Chapter 5 in the book\n",
    "<UL>\n",
    "<LI><A HREF=\"https://cogniterra.org/lesson/51964/step/10?unit=43453\">Solve the Probability of an Outcome Given a Hidden Path Problem</A></LI>\n",
    "<LI><A HREF=\"https://cogniterra.org/lesson/51966/step/4?unit=43455\">Solve the Outcome Likelihood Problem</A></LI>\n",
    "<LI><A HREF=\"https://cogniterra.org/lesson/51967/step/15?unit=43456\">Solve the Profile HMM Problem</A></LI>\n",
    "<LI><A HREF=\"https://cogniterra.org/lesson/51968/step/5?unit=43457\">Solve the Profile HMM with Pseudocounts Problem</A></LI>\n",
    "<LI><A HREF=\"https://cogniterra.org/lesson/51968/step/14?unit=43457\">Solve the Sequence Alignment with Profile HMM Problem</A></LI>\n",
    "<LI><A HREF=\"https://cogniterra.org/lesson/51969/step/4?unit=43458\">Solve the HMM Parameter Estimation Problem</A></LI>\n",
    "<LI><A HREF=\"https://cogniterra.org/lesson/51969/step/8?unit=43458\">Implement Viterbi learning for estimating the parameters of an HMM</A></LI>\n",
    "<LI><A HREF=\"https://cogniterra.org/lesson/51970/step/5?unit=43459\">Solve the Soft Decoding Problem</A></LI>\n",
    "<LI><A HREF=\"https://cogniterra.org/lesson/51971/step/5?unit=43460\">Implement Baum-Welch Learning</A></LI>\n",
    "</UL>\n",
    "Those challenges above are OPTIONAL. They are good problems, but you do not need to solve it, unless you feel inclined to do so."
   ]
  },
  {
   "cell_type": "markdown",
   "metadata": {},
   "source": [
    "<hr style=\"height:5px;border-width:2;color:gray;background-color:#000000\"> \n",
    "<center><h1>Probability of a (hidden) state path</h1></center> \n",
    "<br>\n",
    "In this question you will compute the probability of a particular state path given the transition probabilities."
   ]
  },
  {
   "cell_type": "markdown",
   "metadata": {},
   "source": [
    "<div style=\"color: #000000;background-color: #EEFFEE\">\n",
    "    <font size=+2>Question 1:</font> <font size=+1>(10 points)</font>\n",
    "\n",
    "Solve the <A HREF=\"https://cogniterra.org/lesson/51964/step/8?unit=43453\">Probability of a Hidden Path Problem.</A> Submit your solution to the challenge on Cogniterra and provide your Python code below.\n",
    "    \n",
    "We provide below the function `readinput1` that parses the file format produced by Cogniterra and the skeleton of the function `PHP` (Probability of a Hidden Path). You are free to use this code, or create your own. \n",
    "    \n",
    "Cogniterra will accept answers in scientific notation and within a 10% error from the correct answer.\n",
    "    \n",
    "The wget below fetches the test file formatted as provided by Cogniterra.\n",
    "</div>"
   ]
  },
  {
   "cell_type": "code",
   "execution_count": 1,
   "metadata": {},
   "outputs": [
    {
     "name": "stdout",
     "output_type": "stream",
     "text": [
      "--2025-05-23 16:53:25--  http://www.cs.ucr.edu/~stelo/cs144/data/hw6_test1.txt\n",
      "Resolving www.cs.ucr.edu (www.cs.ucr.edu)... 169.235.30.15\n",
      "Connecting to www.cs.ucr.edu (www.cs.ucr.edu)|169.235.30.15|:80... connected.\n",
      "HTTP request sent, awaiting response... 200 OK\n",
      "Length: 64 [text/plain]\n",
      "Saving to: ‘hw6_test1.txt.1’\n",
      "\n",
      "hw6_test1.txt.1     100%[===================>]      64  --.-KB/s    in 0s      \n",
      "\n",
      "2025-05-23 16:53:25 (5.49 MB/s) - ‘hw6_test1.txt.1’ saved [64/64]\n",
      "\n"
     ]
    }
   ],
   "source": [
    "!wget http://www.cs.ucr.edu/~stelo/cs144/data/hw6_test1.txt"
   ]
  },
  {
   "cell_type": "code",
   "execution_count": 3,
   "metadata": {},
   "outputs": [
    {
     "name": "stdout",
     "output_type": "stream",
     "text": [
      "The path is ['B', 'B', 'A', 'A', 'B', 'B', 'A', 'A', 'A', 'B', 'B', 'A', 'A', 'A', 'A', 'B', 'A', 'A', 'B', 'A', 'B', 'B', 'A', 'A', 'A', 'A', 'A', 'B', 'B', 'A', 'B', 'A', 'B', 'B', 'A', 'A', 'B', 'B', 'A', 'A', 'B', 'A', 'B', 'B', 'B', 'B', 'A', 'B', 'A', 'B']\n",
      "Transition matrix is {'A': {'A': 0.617, 'B': 0.383}, 'B': {'A': 0.324, 'B': 0.676}}\n",
      "The initial probability for each state is 0.5\n",
      "The probability of BBAABBAAABBAAAABAABABBAAAAABBABABBAABBAABABBBBABAB is 3.0960879596466306e-17\n"
     ]
    }
   ],
   "source": [
    "# no libraries allowed except for numpy (if needed)\n",
    "\n",
    "def PHP(path, trans, initial_prob):\n",
    "    \"\"\" computes the probability of the path from\n",
    "        transition matrix and the initial probability\"\"\"\n",
    "    php = initial_prob\n",
    "    #this is the algorithm from class, we just need to mulitply all the probabilities of the transitions, then multiply by 0.5, because\n",
    "    #the initial probability bc it could be 50/50 \n",
    "\n",
    "    #the initial is 0.5. the states are already separated, so we just need to multiply them all\n",
    "    #traverse all states multiplying the previous one\n",
    "    \n",
    "    for i in range(1, len(path)):\n",
    "        prev = path[i-1]\n",
    "        curr = path[i]\n",
    "        php = php * trans[prev][curr]\n",
    "    \n",
    "    ### YOUR CODE HERE\n",
    "    ### YOUR CODE HERE\n",
    "    ### YOUR CODE HERE\n",
    "    return php\n",
    "\n",
    "def readinput1(file):\n",
    "    \"\"\" process the file describing the input to the problem as produced by Cogniterra;\n",
    "        returns path, transition probabilities, and the initial probability for each state \"\"\"\n",
    "    f = open(file, \"r\")\n",
    "    input = ''\n",
    "    for x in f:\n",
    "        input += x\n",
    "    input = input.replace(\"\\t\",\" \")\n",
    "    path, states, trans = input.split('--------')\n",
    "    path = list(path.strip())\n",
    "    states = states.strip().split(' ')\n",
    "    translist = trans.strip().split(\"\\n\")\n",
    "    translist = translist[1:]\n",
    "    trans_dict = {}\n",
    "    for i in range(len(translist)):\n",
    "        trans_dict[states[i]] = {}\n",
    "        temp = list(map(float,translist[i].strip().split(' ')[1:]))\n",
    "        for s in range(len(states)):\n",
    "            trans_dict[states[i]][states[s]]=temp[s]\n",
    "    #we assume initial probability is the same for each state, that is 1.0/len(trans_dict)\n",
    "    return path, trans_dict, 1.0/len(trans_dict)\n",
    "\n",
    "# get the parameters of the problem\n",
    "p, t, i = readinput1(\"hw6_test12.txt\")\n",
    "print('The path is',p)\n",
    "print('Transition matrix is', t)\n",
    "print('The initial probability for each state is',i)\n",
    "# computes the probability of the path\n",
    "print('The probability of',''.join(p),'is', PHP(p,t,i))"
   ]
  },
  {
   "cell_type": "markdown",
   "metadata": {},
   "source": [
    "<hr style=\"height:5px;border-width:2;color:gray;background-color:#000000\"> \n",
    "<center><h1>Viterbi algorithm</h1></center>\n",
    "\n",
    "In this question you will implement Viterbi's decoding algorithm for HMMs, which is based on dynamic programming."
   ]
  },
  {
   "cell_type": "markdown",
   "metadata": {},
   "source": [
    "<div style=\"color: #000000;background-color: #EEFFEE\">\n",
    "    <font size=+2>Question 2:</font> <font size=+1>(20 points)</font>\n",
    "\n",
    "Implement the <A HREF=\"https://cogniterra.org/lesson/51965/step/7?unit=43454\"> Viterbi algorithm for solving the Decoding Problem.</A> Submit your solution to the challenge on Cogniterra and paste your Python code below.\n",
    "\n",
    "We provide below the function `readinput2` that parses the input format and the skeleton of `viterbi`. You are free to use this code, or create your own. \n",
    "    \n",
    "You can check any on-line description/pseudo-code of Viterbi, e.g., <A HREF=\"https://en.wikipedia.org/wiki/Viterbi_algorithm\">wikipedia</A>, but you have to write your own code without any ML library.\n",
    "     \n",
    "The wget below fetches the test file formatted as provided by Cogniterra.\n",
    "\n",
    "</div>"
   ]
  },
  {
   "cell_type": "code",
   "execution_count": 1,
   "metadata": {},
   "outputs": [
    {
     "name": "stdout",
     "output_type": "stream",
     "text": [
      "--2025-05-24 02:16:16--  http://www.cs.ucr.edu/~stelo/cs144/data/hw6_test2.txt\n",
      "Resolving www.cs.ucr.edu (www.cs.ucr.edu)... 169.235.30.15\n",
      "Connecting to www.cs.ucr.edu (www.cs.ucr.edu)|169.235.30.15|:80... connected.\n",
      "HTTP request sent, awaiting response... 200 OK\n",
      "Length: 135 [text/plain]\n",
      "Saving to: ‘hw6_test2.txt’\n",
      "\n",
      "hw6_test2.txt       100%[===================>]     135  --.-KB/s    in 0s      \n",
      "\n",
      "2025-05-24 02:16:16 (23.8 MB/s) - ‘hw6_test2.txt’ saved [135/135]\n",
      "\n"
     ]
    }
   ],
   "source": [
    "!wget http://www.cs.ucr.edu/~stelo/cs144/data/hw6_test2.txt"
   ]
  },
  {
   "cell_type": "code",
   "execution_count": 2,
   "metadata": {},
   "outputs": [
    {
     "name": "stdout",
     "output_type": "stream",
     "text": [
      "string = ['x', 'z', 'z', 'x', 'y', 'y', 'z', 'x', 'y', 'y', 'z', 'y', 'y', 'z', 'y', 'y', 'z', 'x', 'x', 'z', 'z', 'z', 'y', 'z', 'z', 'z', 'x', 'z', 'y', 'y', 'y', 'x', 'x', 'x', 'y', 'z', 'y', 'y', 'z', 'z', 'y', 'z', 'z', 'y', 'z', 'z', 'z', 'x', 'x', 'y', 'x', 'y', 'z', 'x', 'y', 'y', 'z', 'y', 'x', 'z', 'x', 'x', 'x', 'y', 'y', 'y', 'x', 'z', 'y', 'z', 'y', 'x', 'x', 'z', 'y', 'z', 'y', 'x', 'z', 'z', 'y', 'z', 'x', 'z', 'z', 'z', 'x', 'z', 'x', 'y', 'z', 'y', 'z', 'x', 'x', 'z', 'z', 'z', 'y', 'y']\n",
      "alphabet = ['x', 'y', 'z']\n",
      "states = ['A', 'B', 'C']\n",
      "initial probabilities = {'A': 0.3333333333333333, 'B': 0.3333333333333333, 'C': 0.3333333333333333}\n",
      "transition probabilities = {'A': {'A': 0.435, 'B': 0.329, 'C': 0.236}, 'B': {'A': 0.242, 'B': 0.536, 'C': 0.222}, 'C': {'A': 0.388, 'B': 0.271, 'C': 0.341}}\n",
      "emission probabilities = {'A': {'x': 0.624, 'y': 0.292, 'z': 0.084}, 'B': {'x': 0.161, 'y': 0.292, 'z': 0.547}, 'C': {'x': 0.338, 'y': 0.433, 'z': 0.229}}\n",
      "the most probable path is (7.696640067238075e-72, 'ABBABBBABBBBBBBBBAABBBBBBBABBBBAAABBBBBBBBBBBBBAAAABBABBBBABAAAAAAABBBBAABBBBABBBBABBBABABBBBAABBBBB')\n"
     ]
    }
   ],
   "source": [
    "# no ML libraries allowed, numpy and math libraries OK\n",
    "\n",
    "#for viterbi, we need to be able \n",
    "def viterbi(s, states, start_p, trans_p, emit_p):\n",
    "    \"\"\" computes the most probable path for string s \"\"\"\n",
    "    V = [{}]   # dynamic programming table in log form to minimize the chances of underflow\n",
    "    path = {}  # most probable path is a dictionary\n",
    "    \n",
    "    # Initialize base cases \n",
    "    for y in states:\n",
    "        V[0][y] = start_p[y] * emit_p[y][s[0]]\n",
    "        path[y] = [y]\n",
    "    for i in range(1, len(s)):\n",
    "        V.append({})\n",
    "        new = {}\n",
    "\n",
    "        for y in states:\n",
    "            (prob, state) = max(  #here we use the recurrence relation to get the max probabiliry for the states\n",
    "                [(V[i-1][y0] * trans_p[y0][y] * emit_p[y][s[i]], y0) for y0 in states] #recurrence relation\n",
    "            )\n",
    "            V[i][y]=prob\n",
    "            new[y]= path[state] +[y]\n",
    "        path = new\n",
    " \n",
    "    # Run Viterbi for the rest of the columns of the dynamic programming matrix\n",
    "    #viterbi algorithm will find the maximum in the hidden probabilities, which will in return return the most probable event\n",
    "    \n",
    "    ### YOUR CODE HERE\n",
    "    ### YOUR CODE HERE\n",
    "    ### YOUR CODE HERE\n",
    "    \n",
    "    # Find the max \n",
    "    (prob,state) = max([(V[-1][y], y) for y in states])\n",
    "    return (prob, ''.join(path[state])) #join will make the result just be one string of the result of the algorithm\n",
    "\n",
    "def readinput2(file):\n",
    "    \"\"\" process the file describing the HMM as produced by Cogniterra;\n",
    "        returns observations, alphabet, states, initial probabilities, transition probabilities\n",
    "        and emission probabilities \"\"\"\n",
    "    f = open(file, \"r\")\n",
    "    dataset = ''\n",
    "    for x in f:\n",
    "        dataset += x\n",
    "    dataset = dataset.replace(\"\\t\",\" \")\n",
    "    observations, alphabet, states, trans, emi = dataset.split('--------')\n",
    "    observations = list(observations.strip())\n",
    "    states = states.strip().split(' ')\n",
    "    translist = trans.strip().split(\"\\n\")[1:]\n",
    "    trans_dict = {}\n",
    "    alphabet = alphabet.strip().split(\" \")\n",
    "    for i in range(len(translist)):\n",
    "        trans_dict[states[i]] = {}\n",
    "        temp = list(map(float,translist[i].strip().split(' ')[1:]))\n",
    "        for s in range(len(states)):\n",
    "            trans_dict[states[i]][states[s]]=temp[s]\n",
    "    emilist = emi.strip().split('\\n')[1:]\n",
    "    emi_dict = {}\n",
    "    num_emistates = len(emilist[0].strip().split(' ')[1:])\n",
    "    for i in range(len(emilist)):\n",
    "        emi_dict[states[i]] = {}\n",
    "        temp = list(map(float,emilist[i].strip().split(' ')[1:]))\n",
    "        for s in range(num_emistates):\n",
    "            emi_dict[states[i]][alphabet[s]]=temp[s]\n",
    "    # initial probabilities are all equal\n",
    "    initial_probs = {}\n",
    "    for i in trans_dict:\n",
    "        initial_probs[i] = 1.0/len(trans_dict)\n",
    "    f.close()\n",
    "    return (observations, alphabet, states, initial_probs, trans_dict, emi_dict)\n",
    "\n",
    "# ---- MAIN\n",
    "string, alphabet, states, initial_probs, trans_dict, emi_dict = readinput2(\"hw6_test23.txt\")\n",
    "print('string =',string)\n",
    "print('alphabet =',alphabet)\n",
    "print('states =',states)\n",
    "print('initial probabilities =',initial_probs)\n",
    "print('transition probabilities =',trans_dict)\n",
    "print('emission probabilities =',emi_dict)\n",
    "print('the most probable path is',viterbi(string, states, initial_probs, trans_dict, emi_dict))"
   ]
  },
  {
   "cell_type": "code",
   "execution_count": null,
   "metadata": {},
   "outputs": [],
   "source": []
  },
  {
   "cell_type": "code",
   "execution_count": null,
   "metadata": {},
   "outputs": [],
   "source": []
  }
 ],
 "metadata": {
  "kernelspec": {
   "display_name": "UCR CS 144",
   "language": "python",
   "name": "cs144_spring2021"
  },
  "language_info": {
   "codemirror_mode": {
    "name": "ipython",
    "version": 3
   },
   "file_extension": ".py",
   "mimetype": "text/x-python",
   "name": "python",
   "nbconvert_exporter": "python",
   "pygments_lexer": "ipython3",
   "version": "3.8.5"
  }
 },
 "nbformat": 4,
 "nbformat_minor": 4
}
