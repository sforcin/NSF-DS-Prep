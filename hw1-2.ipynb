{
 "cells": [
  {
   "cell_type": "markdown",
   "metadata": {},
   "source": [
    "<hr style=\"height:5px;border-width:2;color:gray;background-color:#000000\"> \n",
    "<center><h1>CS 144 - Spring 2025 - Homework 1</h1></center>\n",
    "<center><h1>Due: Sunday, April 13, 2025 @ 11:59pm</h1></center>"
   ]
  },
  {
   "cell_type": "markdown",
   "metadata": {},
   "source": [
    "## Read *all* cells carefully and answer all parts (both text and code)"
   ]
  },
  {
   "cell_type": "markdown",
   "metadata": {},
   "source": [
    "### Enter your information below:\n",
    "\n",
    "<div style=\"color: #000000;background-color: #EEEEFF\">\n",
    "    Your Name (submitter): Isabela Sforcin <br>\n",
    "    Your student ID (submitter):ialve001 <br>\n",
    "    \n",
    "<b>By submitting this notebook, I assert that the work below is my own work, completed for this course.  Except where explicitly cited, none of the portions of this notebook are duplicated from anyone else's work or my own previous work.</b>\n",
    "<br><br>\n",
    "<b>Instruction for submissions:</B> when you have completed this homework, download this .ipynb file to your computer by left-clicking on the file name, and submit to <a href=\"https://elearn.ucr.edu/\">Canvas</A> by the deadline. \n",
    "<br><br>\n",
    "<B>Late work:</B> Each student is granted five \"late days\" which can be used (in integer units) on any of the homework. If a more dire situation arises, please contact the instructor. DO NOT RESORT TO CHEATING.\n",
    "</div>\n"
   ]
  },
  {
   "cell_type": "markdown",
   "metadata": {},
   "source": [
    "<hr style=\"height:5px;border-width:2;color:gray;background-color:#000000\"> \n",
    "<center><h1>Question 0: Post an intro to Discord</h1></center>\n",
    "<br>\n",
    "Please use the invite <A href=\"https://discord.gg/pFJ9j2Qupn\">https://discord.gg/pFJ9j2Qupn</A> (if you need to type this on your phone the invite link is CaSe SeNsItIvE) to join the Discord CS 144 discussion board. Make sure you turn on notifications. I suggest your download a Discord client for your laptop as well. Please be respectful and use your real name for this channel.\n",
    "<BR>\n",
    "<br>  \n",
    "<div style=\"color: #000000;background-color: #EEFFEE\">\n",
    "    <font size=+2>Task 0.1:</font> <font size=+1>(2 points)</font>\n",
    "<br>\n",
    "Post an introductory message in the #general channel on Discord. What is your full name? What is your major? Please tell us about your academic interests, as well as your hobbies. What brings you to CS 144?"
   ]
  },
  {
   "cell_type": "markdown",
   "metadata": {},
   "source": [
    "<hr style=\"height:5px;border-width:2;color:gray;background-color:#000000\"> \n",
    "<center><h1>Question 1: Genomes</h1></center>\n",
    "<br>\n",
    "Genomes are now being sequenced at such a rapid rate that it is becoming routine. As a result, there is a growing interest in trying to understand the meaning of the information that is stored and encoded in these genomes and to understand their differences and what these differences say about the evolution of Life on Earth.  Further, it is now even becoming possible to compare genomes between different individuals of the same species, which serves as a starting point for understanding the genetic contributions to their observed phenotypes. "
   ]
  },
  {
   "cell_type": "markdown",
   "metadata": {},
   "source": [
    "<div style=\"color: #000000;background-color: #EEFFEE\">\n",
    "    <font size=+2>Question 1.1:</font> <font size=+1>(2 points)</font>\n",
    "<br>    \n",
    "The NIH's National Center for Biotechnology Information (NCBI) provides a huge repository and a multitude of databases for biological information. \n",
    "<br>\n",
    "<center><img src=\"http://book.bionumbers.org/wp-content/uploads/2014/08/502-f1-GenomeSizesRanges-1.png\" width=\"512\"></center>\n",
    "<br>    \n",
    "Use NCBI's <A HREF=\"https://www.ncbi.nlm.nih.gov/home/genomes/\">genomes</A> to find the <b>approximate size</b> in base pairs (i.e., nucleotides) of the  genomes for the following organisms:\n",
    "<ul>\n",
    "<li><i>hepatitis delta</i> virus</li>\n",
    "<li>microbial <i>Escherichia coli</i> K12 </li>\n",
    "<li>bakers' yeast <i>Saccharomyces cerevisiae</i></li>\n",
    "<li>worm <i>Caenorhabditis elegans</i> - haploid </li>\n",
    "<li>human (<i>Homo sapiens</i>) - haploid</li>\n",
    "<li>plant <i>Paris japonica</i></li>\n",
    "<li>marbled lungfish <i>Protopterus aethiopicus</i> </li>\n",
    "</ul>\n",
    "\n",
    "</div>"
   ]
  },
  {
   "cell_type": "code",
   "execution_count": null,
   "metadata": {},
   "outputs": [],
   "source": [
    "## YOUR ANSWER HERE\n",
    "Hepatitis_delta_genome_size = 1682  # smallest known animal RNA virus\n",
    "E_coli_genome_size = 4,639,221           # bacteria/prokaryote\n",
    "S_cerevisiae_genome_size = 12,000,000     # single-cell eukaryote\n",
    "C_elegans_genome_size = 100,000,000        # eukaryote\n",
    "H_sapiens_genome_size = 3,100,000,000        # eukaryote \n",
    "P_japonica_genome_size = 149,000,000,000       # eukaryote \n",
    "P_aethiopicus_genome_size = 133,000,000,000    # eukaryote "
   ]
  },
  {
   "cell_type": "markdown",
   "metadata": {},
   "source": [
    "<div style=\"color: #000000;background-color: #EEFFEE\">\n",
    "    <font size=+2>Question 1.2:</font> <font size=+1>(2 points)</font>\n",
    "<br>\n",
    "Find out the <b>estimated number of genes</b> in each of the above organisms.\n",
    "</div>"
   ]
  },
  {
   "cell_type": "code",
   "execution_count": null,
   "metadata": {},
   "outputs": [],
   "source": [
    "## YOUR ANSWER HERE\n",
    "Hepatitis_delta_genes = 1\n",
    "E_coli_genes = 4,400\n",
    "S_cerevisiae_genes = 6,000 \n",
    "C_elegans_genes = 20_000\n",
    "H_sapiens_genes = 20_000 \n",
    "P_japonica_genes = 50_000\n",
    "P_aethiopicus_genes = 40_000"
   ]
  },
  {
   "cell_type": "markdown",
   "metadata": {},
   "source": [
    "<div style=\"color: #000000;background-color: #EEFFEE\">\n",
    "    <font size=+2>Question 1.3:</font> <font size=+1>(2 points)</font>\n",
    "<br>    \n",
    "Is the size of genome proportional to the total number of genes? \n",
    "<br>\n",
    "<center><IMG src=\"http://book.bionumbers.org/wp-content/uploads/2014/08/520-f1-GenesGenomeCorrelation-11.png\" width=\"400\"></center>\n",
    "<br>        \n",
    "This figure above shows the number of genes as a function of genome size for a variety of bacteria and archaea, with the slope of the data line confirming the simple rule of thumb relating genome size and gene number. (Adapted from M. Lynch, The Origins of Genome Architecture.)\n",
    "<br>\n",
    "Is the same true for eukaryotes (based on the data you collected above)? Explain.\n",
    "</div>"
   ]
  },
  {
   "cell_type": "markdown",
   "metadata": {},
   "source": [
    "### YOUR ANSWER HERE\n",
    "In bacteria and archaea, genome size is generally proportional to the number of genes, with about one gene per 1,000 base pairs.\n",
    "However, this is not the case for eukaryotes. Although some eukaryotes have much larger genomes than others, the number of genes remains relatively similar. For example, humans and the marbled lungfish have very different genome sizes, but their gene counts are not extremely different. This is because eukaryotic genomes contain a lot of non-coding DNA, such as repetitive sequences, which do not contribute to gene count. Therefore, genome size is not a accurate indicator of gene number in eukaryotes."
   ]
  },
  {
   "cell_type": "markdown",
   "metadata": {},
   "source": [
    "<div style=\"color: #000000;background-color: #EEFFEE\">\n",
    "    <font size=+2>Question 1.4:</font> <font size=+1>(2 points)</font>\n",
    "<br>        \n",
    "Is it always true that the more complex the organism, the large genome it has? Give an example if your answer is no and explain why.\n",
    "</div>"
   ]
  },
  {
   "cell_type": "markdown",
   "metadata": {},
   "source": [
    "I don't think so, because the Paris Japonica plant has a larger genome than humans, although it is not a more complex organism than homo sapiens"
   ]
  },
  {
   "cell_type": "markdown",
   "metadata": {},
   "source": [
    "<div style=\"color: #000000;background-color: #EEFFEE\">\n",
    "    <font size=+2>Question 1.5:</font> <font size=+1>(2 points)</font>\n",
    "<br>    \n",
    "What is the minimum number of bytes required to store the genomes listed above? You can assume that each nucleotide can be represented by 2 bits (i.e., A:00, C:01, G:10, T:11), therefore a byte can represent four nucleotides. What if you want to store the human genome in its diploid\n",
    "rather than haploid form? Show your calculations!\n",
    "</div>"
   ]
  },
  {
   "cell_type": "code",
   "execution_count": null,
   "metadata": {},
   "outputs": [],
   "source": [
    "## YOUR ANSWER HERE\n",
    "#To find the number of bytes needed to store a genome, divide the number of base pairs by 4.\n",
    "# each nucleotide takes 2 bits, and 1 byte = 8 bits, so each byte stores 4 nucleotides.\n",
    "\n",
    "Hepatitis_delta_genome_bytes = 421 bytes\n",
    "E_coli_genome_bytes = 1,159,805 (1.16 MB)\n",
    "C_elegans_genome_bytes = 25,000,000 (25MB)\n",
    "H_sapiens_genome_bytes = 775,000,000  (775 MB)\n",
    "P_aethiopicus_genome_bytes = 33,250,000,000 (33.25 GB)"
   ]
  },
  {
   "cell_type": "markdown",
   "metadata": {},
   "source": [
    "<div style=\"color: #000000;background-color: #EEFFEE\">\n",
    "<font size=+2>Question 1.6:</font> <font size=+1>(2 points)</font>\n",
    "<br>    \n",
    "What is the minimum number of bytes needed to store <B>all</B> human genomes on our planet? All such genomes can be represented as a single individual's genome plus the variations, or polymorphisms, seen in all other human genomes. Assume that the human population is about 7.8 billion, and that polymorphic sites tend to be simple single nucleotide polymorphisms (SNPs, such as A in one genome and C in another) and occur about once every 1000 bases. You can assume that SNPs are distributed uniformly, but the reality is that they are not (see this article <a href=\"http://book.bionumbers.org/how-genetically-similar-are-two-random-people/\">How genetically similar are two random people?</a>) Show your calculations below.\n",
    "</div>"
   ]
  },
  {
   "cell_type": "code",
   "execution_count": null,
   "metadata": {},
   "outputs": [],
   "source": [
    "## YOUR ANSWER HERE\n",
    "Human_population = 7800000000 # estimate as of March 2020\n",
    "## one human's genome takes 775 mb (as calculated previously)\n",
    "#polymorphic sites happen once every 1000 bases -> 3,100,000,000 / 1000 = 3,100,000\n",
    "#each base takes two bits, so 6,200,000 bits, which is 775,000 bytes, or 0.775 MB\n",
    "#for all 7.8 billion people : 0.775 MB * 7.8B = 6,045,000,000 MB = 6.045 million MB \n",
    "\n",
    "Total_number_of_bytes_to_store_all_human_genome = 6,045,000,000 MB"
   ]
  },
  {
   "cell_type": "markdown",
   "metadata": {},
   "source": [
    "<div style=\"color: #000000;background-color: #EEFFEE\">\n",
    "    <font size=+2>Question 1.7:</font> <font size=+1>(2 points)</font>\n",
    "<br>    \n",
    "How many 1 TB memory sticks (flash drives) would it take to store all the human genomes on the planet?\n",
    "</div>"
   ]
  },
  {
   "cell_type": "code",
   "execution_count": null,
   "metadata": {},
   "outputs": [],
   "source": [
    "## YOUR ANSWER HERE\n",
    "#1 TB is 1,000,000 MB. \n",
    "# 6,045,000,000 / 1 TB = 6,045\n",
    "TB_memory_sticks_to_store_all_human_genome = 6,045 "
   ]
  },
  {
   "cell_type": "markdown",
   "metadata": {
    "tags": []
   },
   "source": [
    "<hr style=\"height:5px;border-width:2;color:gray;background-color:#000000\"> \n",
    "<center><h1>Question 2: Exploring a genetic disease</h1></center> \n",
    "<br>\n",
    "Adrenoleukodystrophy (ALD) is an inherited neurodegenerative disorder that effects about 1 in 15-20,000 males. It arises through a mutation in the ABCD1 (or ALD) gene, which is found on the X chromosome. People with adrenoleukodystrophy accumulate high levels of saturated, very long chain fatty acids in their brain, which causes the loss of myelin on nerve fibers. The effective detection of the ABCD1 mutation is key for diagnosing this disease.\n",
    "<br>\n",
    "<br>\n",
    "We will concentrate on the gene ABCD1. Start from the main <A href=\"https://www.ncbi.nlm.nih.gov/search/\">NCBI page</A>, and search for “Homo sapiens ABCD1”. NCBI will show many hits from several databases. We want to take first a look at the protein, so click on “Protein”. You will get about several dozen hits, select the entry labelled Accession:NP 000024 (version 2, which is represented by “.2”)\n",
    "<BR>\n",
    "We can also use Biopython (<a href=\"http://biopython.org/DIST/docs/tutorial/Tutorial.html\">here</a> is a good tutorialon Biophyton) to search for the protein sequence of the gene ABCD1. Code is below. Try to understand the code."
   ]
  },
  {
   "cell_type": "code",
   "execution_count": 2,
   "metadata": {
    "tags": []
   },
   "outputs": [
    {
     "name": "stdout",
     "output_type": "stream",
     "text": [
      "List of available databases is {'DbList': ['pubmed', 'protein', 'nuccore', 'ipg', 'nucleotide', 'structure', 'genome', 'annotinfo', 'assembly', 'bioproject', 'biosample', 'blastdbinfo', 'books', 'cdd', 'clinvar', 'gap', 'gapplus', 'grasp', 'dbvar', 'gene', 'gds', 'geoprofiles', 'medgen', 'mesh', 'nlmcatalog', 'omim', 'orgtrack', 'pmc', 'proteinclusters', 'pcassay', 'protfam', 'pccompound', 'pcsubstance', 'seqannot', 'snp', 'sra', 'taxonomy', 'biocollections', 'gtr']} \n",
      "\n",
      ">sp|P33897.2|ABCD1_HUMAN RecName: Full=ATP-binding cassette sub-family D member 1; AltName: Full=Adrenoleukodystrophy protein; Short=ALDP\n",
      "MPVLSRPRPWRGNTLKRTAVLLALAAYGAHKVYPLVRQCLAPARGLQAPAGEPTQEASGVAAAKAGMNRV\n",
      "FLQRLLWLLRLLFPRVLCRETGLLALHSAALVSRTFLSVYVARLDGRLARCIVRKDPRAFGWQLLQWLLI\n",
      "ALPATFVNSAIRYLEGQLALSFRSRLVAHAYRLYFSQQTYYRVSNMDGRLRNPDQSLTEDVVAFAASVAH\n",
      "LYSNLTKPLLDVAVTSYTLLRAARSRGAGTAWPSAIAGLVVFLTANVLRAFSPKFGELVAEEARRKGELR\n",
      "YMHSRVVANSEEIAFYGGHEVELALLQRSYQDLASQINLILLERLWYVMLEQFLMKYVWSASGLLMVAVP\n",
      "IITATGYSESDAEAVKKAALEKKEEELVSERTEAFTIARNLLTAAADAIERIMSSYKEVTELAGYTARVH\n",
      "EMFQVFEDVQRCHFKRPRELEDAQAGSGTIGRSGVRVEGPLKIRGQVVDVEQGIICENIPIVTPSGEVVV\n",
      "ASLNIRVEEGMHLLITGPNGCGKSSLFRILGGLWPTYGGVLYKPPPQRMFYIPQRPYMSVGSLRDQVIYP\n",
      "DSVEDMQRKGYSEQDLEAILDVVHLHHILQREGGWEAMCDWKDVLSGGEKQRIGMARMFYHRPKYALLDE\n",
      "CTSAVSIDVEGKIFQAAKDAGIALLSITHRPSLWKYHTHLLQFDGEGGWKFEKLDSAARLSLTEEKQRLE\n",
      "QQLAGIPKMQRRLQELCQILGEAVAPAHVPAPSPQGPGGLQGAST\n",
      "\n",
      "\n",
      ">NP_000024.2 ATP-binding cassette sub-family D member 1 [Homo sapiens]\n",
      "MPVLSRPRPWRGNTLKRTAVLLALAAYGAHKVYPLVRQCLAPARGLQAPAGEPTQEASGVAAAKAGMNRV\n",
      "FLQRLLWLLRLLFPRVLCRETGLLALHSAALVSRTFLSVYVARLDGRLARCIVRKDPRAFGWQLLQWLLI\n",
      "ALPATFVNSAIRYLEGQLALSFRSRLVAHAYRLYFSQQTYYRVSNMDGRLRNPDQSLTEDVVAFAASVAH\n",
      "LYSNLTKPLLDVAVTSYTLLRAARSRGAGTAWPSAIAGLVVFLTANVLRAFSPKFGELVAEEARRKGELR\n",
      "YMHSRVVANSEEIAFYGGHEVELALLQRSYQDLASQINLILLERLWYVMLEQFLMKYVWSASGLLMVAVP\n",
      "IITATGYSESDAEAVKKAALEKKEEELVSERTEAFTIARNLLTAAADAIERIMSSYKEVTELAGYTARVH\n",
      "EMFQVFEDVQRCHFKRPRELEDAQAGSGTIGRSGVRVEGPLKIRGQVVDVEQGIICENIPIVTPSGEVVV\n",
      "ASLNIRVEEGMHLLITGPNGCGKSSLFRILGGLWPTYGGVLYKPPPQRMFYIPQRPYMSVGSLRDQVIYP\n",
      "DSVEDMQRKGYSEQDLEAILDVVHLHHILQREGGWEAMCDWKDVLSGGEKQRIGMARMFYHRPKYALLDE\n",
      "CTSAVSIDVEGKIFQAAKDAGIALLSITHRPSLWKYHTHLLQFDGEGGWKFEKLDSAARLSLTEEKQRLE\n",
      "QQLAGIPKMQRRLQELCQILGEAVAPAHVPAPSPQGPGGLQGAST\n",
      "\n",
      "\n",
      ">XP_054182656.1 ATP-binding cassette sub-family D member 1 isoform X2 [Homo sapiens]\n",
      "MPVLSRPRPWRGNTLKRTAVLLALAAYGAHKVYPLVRQCLAPARGLQAPAGEPTQEASGVAAAKAGMNRV\n",
      "FLQRLLWLLRLLFPRVLCRETGLLALHSAALVSRTFLSVYVARLDGRLARCIVRKDPRAFGWQLLQWLLI\n",
      "ALPATFVNSAIRYLEGQLALSFRSRLVAHAYRLYFSQQTYYRVSNMDGRLRNPDQSLTEDVVAFAASVAH\n",
      "LYSNLTKPLLDVAVTSYTLLRAARSRGAGTAWPSAIAGLVVFLTANVLRAFSPKFGELVAEEARRKGELR\n",
      "YMHSRVVANSEEIAFYGGHEVELALLQRSYQDLASQINLILLERLWYVMLEQFLMKYVWSASGLLMVAVP\n",
      "IITATGYSESDAEAVKKAALEKKEEELVSERTEAFTIARNLLTAAADAIERIMSSYKEVTELAGYTARVH\n",
      "EMFQVFEDVQRCHFKRPRELEDAQAGSGTIGRSGVRVEGPLKIRGQQEKVPVSVPAAGCHGRQARWWMWN\n",
      "RGSSARTSPSSRPQERWWWPASTSGWRKACICSSQAPMAAARAPCSGSWVGSGPRTVVCSTSPHPSACST\n",
      "SRRGPTCLWAPCVTR\n",
      "\n",
      "\n",
      ">XP_054182655.1 ATP-binding cassette sub-family D member 1 isoform X1 [Homo sapiens]\n",
      "MPVLSRPRPWRGNTLKRTAVLLALAAYGAHKVYPLVRQCLAPARGLQAPAGEPTQEASGVAAAKAGMNRV\n",
      "FLQRLLWLLRLLFPRVLCRETGLLALHSAALVSRTFLSVYVARLDGRLARCIVRKDPRAFGWQLLQWLLI\n",
      "ALPATFVNSAIRYLEGQLALSFRSRLVAHAYRLYFSQQTYYRVSNMDGRLRNPDQSLTEDVVAFAASVAH\n",
      "LYSNLTKPLLDVAVTSYTLLRAARSRGAGTAWPSAIAGLVVFLTANVLRAFSPKFGELVAEEARRKGELR\n",
      "YMHSRVVANSEEIAFYGGHEVELALLQRSYQDLASQINLILLERLWYVMLEQFLMKYVWSASGLLMVAVP\n",
      "IITATGYSESDAEAVKKAALEKKEEELVSERTEAFTIARNLLTAAADAIERIMSSYKEVTELAGYTARVH\n",
      "EMFQVFEDVQRCHFKRPRELEDAQAGSGTIGRSGVRVEGPLKIRGTSMCFWPIPVHPGREGCRAGSLRTS\n",
      "AWSSWAPGGFPAERCWSARLPSQTVAAGHRTDSPFEGLSLDYSFKTRGMWSPHPCRTARESSSQCASCWL\n",
      "PREAGQVVDVEQGIICENIPIVTPSGEVVVASLNIRVEEGMHLLITGPNGCGKSSLFRILGGLWPTYGGV\n",
      "LYKPPPQRMFYIPQRPYMSVGSLRDQVIYPDSVEDMQRKGYSEQDLEAILDVVHLHHILQREGGWEAMCD\n",
      "WKDVLSGGEKQRIGMARMFYHRPKYALLDECTSAVSIDVEGKIFQAAKDAGIALLSITHRPSLWKYHTHL\n",
      "LQFDGEGGWKFEKLDSAARLSLTEEKQRLEQQLAGIPKMQRRLQELCQILGEAVAPAHVPAPSPQGPGGL\n",
      "QGAST\n",
      "\n",
      "\n",
      ">XP_047297873.1 ATP-binding cassette sub-family D member 1 isoform X2 [Homo sapiens]\n",
      "MPVLSRPRPWRGNTLKRTAVLLALAAYGAHKVYPLVRQCLAPARGLQAPAGEPTQEASGVAAAKAGMNRV\n",
      "FLQRLLWLLRLLFPRVLCRETGLLALHSAALVSRTFLSVYVARLDGRLARCIVRKDPRAFGWQLLQWLLI\n",
      "ALPATFVNSAIRYLEGQLALSFRSRLVAHAYRLYFSQQTYYRVSNMDGRLRNPDQSLTEDVVAFAASVAH\n",
      "LYSNLTKPLLDVAVTSYTLLRAARSRGAGTAWPSAIAGLVVFLTANVLRAFSPKFGELVAEEARRKGELR\n",
      "YMHSRVVANSEEIAFYGGHEVELALLQRSYQDLASQINLILLERLWYVMLEQFLMKYVWSASGLLMVAVP\n",
      "IITATGYSESDAEAVKKAALEKKEEELVSERTEAFTIARNLLTAAADAIERIMSSYKEVTELAGYTARVH\n",
      "EMFQVFEDVQRCHFKRPRELEDAQAGSGTIGRSGVRVEGPLKIRGQQEKVPVSVPAAGCHGRQARWWMWN\n",
      "RGSSARTSPSSRPQERWWWPASTSGWRKACICSSQAPMAAARAPCSGSWVGSGPRTVVCSTSPHPSACST\n",
      "SRRGPTCLWAPCVTR\n",
      "\n",
      "\n",
      ">XP_047297872.1 ATP-binding cassette sub-family D member 1 isoform X1 [Homo sapiens]\n",
      "MPVLSRPRPWRGNTLKRTAVLLALAAYGAHKVYPLVRQCLAPARGLQAPAGEPTQEASGVAAAKAGMNRV\n",
      "FLQRLLWLLRLLFPRVLCRETGLLALHSAALVSRTFLSVYVARLDGRLARCIVRKDPRAFGWQLLQWLLI\n",
      "ALPATFVNSAIRYLEGQLALSFRSRLVAHAYRLYFSQQTYYRVSNMDGRLRNPDQSLTEDVVAFAASVAH\n",
      "LYSNLTKPLLDVAVTSYTLLRAARSRGAGTAWPSAIAGLVVFLTANVLRAFSPKFGELVAEEARRKGELR\n",
      "YMHSRVVANSEEIAFYGGHEVELALLQRSYQDLASQINLILLERLWYVMLEQFLMKYVWSASGLLMVAVP\n",
      "IITATGYSESDAEAVKKAALEKKEEELVSERTEAFTIARNLLTAAADAIERIMSSYKEVTELAGYTARVH\n",
      "EMFQVFEDVQRCHFKRPRELEDAQAGSGTIGRSGVRVEGPLKIRGTSMCFWPIPVHPGREGCRAGSLRTS\n",
      "AWSSWAPGGFPAERCWSARLPSQTVAAGHRTDSPFEGLSLDYSFKTRGMWSPHPCRTARESSSQCASCWL\n",
      "PREAGQVVDVEQGIICENIPIVTPSGEVVVASLNIRVEEGMHLLITGPNGCGKSSLFRILGGLWPTYGGV\n",
      "LYKPPPQRMFYIPQRPYMSVGSLRDQVIYPDSVEDMQRKGYSEQDLEAILDVVHLHHILQREGGWEAMCD\n",
      "WKDVLSGGEKQRIGMARMFYHRPKYALLDECTSAVSIDVEGKIFQAAKDAGIALLSITHRPSLWKYHTHL\n",
      "LQFDGEGGWKFEKLDSAARLSLTEEKQRLEQQLAGIPKMQRRLQELCQILGEAVAPAHVPAPSPQGPGGL\n",
      "QGAST\n",
      "\n",
      "\n",
      ">ABC41634.1 mutant ATP-binding cassette sub-family D member 1, partial [Homo sapiens]\n",
      "VEEGMHLLITGPNGCGQSSLFRILGGLWPTYGGVLYKPPPQRMFYIPQ\n",
      "\n",
      "\n",
      ">EAW72817.1 ATP-binding cassette, sub-family D (ALD), member 1 [Homo sapiens]\n",
      "MPVLSRPRPWRGNTLKRTAVLLALAAYGAHKVYPLVRQCLAPARGLQAPAGEPTQEASGVAAAKAGMNRV\n",
      "FLQRLLWLLRLLFPRVLCRETGLLALHSAALVSRTFLSVYVARLDGRLARCIVRKDPRAFGWQLLQWLLI\n",
      "ALPATFVNSAIRYLEGQLALSFRSRLVAHAYRLYFSQQTYYRVSNMDGRLRNPDQSLTEDVVAFAASVAH\n",
      "LYSNLTKPLLDVAVTSYTLLRAARSRGAGTAWPSAIAGLVVFLTANVLRAFSPKFGELVAEEARRKGELR\n",
      "YMHSRVVANSEEIAFYGGHEVELALLQRSYQDLASQINLILLERLWYVMLEQFLMKYVWSASGLLMVAVP\n",
      "IITATGYSESDAEAVKKAALEKKEEELVSERTEAFTIARNLLTAAADAIERIMSSYKEVTELAGYTARVH\n",
      "EMFQVFEDVQRCHFKRPRELEDAQAGSGTIGRSGVRVEGPLKIRGQVVDVEQGIICENIPIVTPSGEVVV\n",
      "ASLNIRVEEGMHLLITGPNGCGKSSLFRILGGLWPTYGGVLYKPPPQRMFYIPQRPYMSVGSLRDQVIYP\n",
      "DSVEDMQRKGYSEQDLEAILDVVHLHHILQREGGWEAMCDWKDVLSGGEKQRIGMARMFYHRPKYALLDE\n",
      "CTSAVSIDVEGKIFQAAKDAGIALLSITHRPSLWKYHTHLLQFDGEGGWKFEKLDSAARLSLTEEKQRLE\n",
      "QQLAGIPKMQRRLQELCQILGEAVAPAHVPAPSPQGPGGLQGAST\n",
      "\n",
      "\n",
      ">AAH25358.1 ATP-binding cassette, sub-family D (ALD), member 1 [Homo sapiens]\n",
      "MPVLSRPRPWRGNTLKRTAVLLALAAYGAHKVYPLVRQCLAPARGLQAPAGEPTQEASGVAAAKAGMNRV\n",
      "FLQRLLWLLRLLFPRVLCRETGLLALHSAALVSRTFLSVYVARLDGRLARCIVRKDPRAFGWQLLQWLLI\n",
      "ALPATFVNSAIRYLEGQLALSFRSRLVAHAYRLYFSQQTYYRVSNMDGRLRNPDQSLTEDVVAFAASVAH\n",
      "LYSNLTKPLLDVAVTSYTLLRAARSRGAGTAWPSAIAGLVVFLTANVLRAFSPKFGELVAEEARRKGELR\n",
      "YMHSRVVANSEEIAFYGGHEVELALLQRSYQDLASQINLILLERLWYVMLEQFLMKYVWSASGLLMVAVP\n",
      "IITATGYSESDAEAVKKAALEKKEEELVSERTEAFTIARNLLTAAADAIERIMSSYKEVTELAGYTARVH\n",
      "EMFQVFEDVQRCHFKRPRELEDAQAGSGTIGRSGVRVEGPLKIRGQVVDVEQGIICENIPIVTPSGEVVV\n",
      "ASLNIRVEEGMHLLITGPNGCGKSSLFRILGGLWPTYGGVLYKPPPQRMFYIPQRPYMSVGSLRDQVIYP\n",
      "DSVEDMQRKGYSEQDLEAILDVVHLHHILQREGGWEAMCDWKDVLSGGEKQRIGMARMFYHRPKYALLDE\n",
      "CTSAVSIDVEGKIFQAAKDAGIALLSITHRPSLWKYHTHLLQFDGEGGWKFEKLDSAARLSLTEEKQRLE\n",
      "QQLAGIPKMQRRLQELCQILGEAVAPAHVPAPSPQGPGGLQGAST\n",
      "\n",
      "\n",
      ">AAH15541.1 ATP-binding cassette, sub-family D (ALD), member 1 [Homo sapiens]\n",
      "MPVLSRPRPWRGNTLKRTAVLLALAAYGAHKVYPLVRQCLAPARGLQAPAGEPTQEASGVAAAKAGMNRV\n",
      "FLQRLLWLLRLLFPRVLCRETGLLALHSAALVSRTFLSVYVARLDGRLARCIVRKDPRAFGWQLLQWLLI\n",
      "ALPATFVNSAIRYLEGQLALSFRSRLVAHAYRLYFSQQTYYRVSNMDGRLRNPDQSLTEDVVAFAASVAH\n",
      "LYSNLTKPLLDVAVTSYTLLRAARSRGAGTAWPSAIAGLVVFLTANVLRAFSPKFGELVAEEARRKGELR\n",
      "YMHSRVVANSEEIAFYGGHEVELALLQRSYQDLASQINLILLERLWYVMLEQFLMKYVWSASGLLMVAVP\n",
      "IITATGYSESDAEAVKKAALEKKEEELVSERTEAFTIARNLLTAAADAIERIMSSYKEVTELAGYTARVH\n",
      "EMFQVFEDVQRCHFKRPRELEDAQAGSGTIGRSGVRVEGPLKIRGQVVDVEQGIICENIPIVTPSGEVVV\n",
      "ASLNIRVEEGMHLLITGPNGCGKSSLFRILGGLWPTYGGVLYKPPPQRMFYIPQRPYMSVGSLRDQVIYP\n",
      "DSVEDMQRKGYSEQDLEAILDVVHLHHILQREGGWEAMCDWKDVLSGGEKQRIGMARMFYHRPKYALLDE\n",
      "CTSAVSIDVEGKIFQAAKDAGIALLSITHRPSLWKYHTHLLQFDGEGGWKFEKLDSAARLSLTEEKQRLE\n",
      "QQLAGIPKMQRRLQELCQILGEAVAPAHVPAPSPQGPGGLQGAST\n",
      "\n",
      "\n",
      ">CCQ42963.1 alternative protein ABCD1 [Homo sapiens]\n",
      "MWPAWTEGWPAASSARTRGLLAGSCCSGSSSPSLLPSSTVPSVTWRANWPCRSAAVWWPTPTASTSPSRP\n",
      "TTGSATWTGGFATLTSL\n",
      "\n",
      "\n",
      "ID: NP_000024.2\n",
      "Name: NP_000024\n",
      "Description: ATP-binding cassette sub-family D member 1 [Homo sapiens]\n",
      "Number of features: 14\n",
      "/topology=linear\n",
      "/data_file_division=PRI\n",
      "/date=04-OCT-2024\n",
      "/accessions=['NP_000024']\n",
      "/sequence_version=2\n",
      "/db_source=REFSEQ: accession NM_000033.4\n",
      "/keywords=['RefSeq', 'MANE Select']\n",
      "/source=Homo sapiens (human)\n",
      "/organism=Homo sapiens\n",
      "/taxonomy=['Eukaryota', 'Metazoa', 'Chordata', 'Craniata', 'Vertebrata', 'Euteleostomi', 'Mammalia', 'Eutheria', 'Euarchontoglires', 'Primates', 'Haplorrhini', 'Catarrhini', 'Hominidae', 'Homo']\n",
      "/references=[Reference(title='Structural insights into substrate recognition and translocation of human peroxisomal ABC transporter ALDP', ...), Reference(title='Structural and functional insights of the human peroxisomal ABC transporter ALDP', ...), Reference(title='Structural basis of substrate recognition and translocation by human very long-chain fatty acid transporter ABCD1', ...), Reference(title='Structure and Function of the ABCD1 Variant Database: 20 Years, 940 Pathogenic Variants, and 3400 Cases of Adrenoleukodystrophy', ...), Reference(title='Mutational analysis of patients with X-linked adrenoleukodystrophy', ...), Reference(title='Leukodystrophy Overview - RETIRED CHAPTER, FOR HISTORICAL REFERENCE ONLY', ...), Reference(title='X-Linked Adrenoleukodystrophy', ...), Reference(title='Adrenoleukodystrophy: a complex chromosomal rearrangement in the Xq28 red/green-color-pigment gene region indicates two possible gene localizations', ...), Reference(title='Adrenoleukodystrophy: survey of 303 cases: biochemistry, diagnosis, and therapy', ...), Reference(title='Adrenoleukodystrophy: evidence for X linkage, inactivation, and selection favoring the mutant allele in heterozygous cells', ...)]\n",
      "/comment=REVIEWED REFSEQ: This record has been curated by NCBI staff. The\n",
      "reference sequence was derived from U52111.3, BC025358.1 and\n",
      "BC015541.1.\n",
      "This sequence is a reference standard in the RefSeqGene project.\n",
      "On Mar 17, 2000 this sequence version replaced NP_000024.1.\n",
      "Summary: The protein encoded by this gene is a member of the\n",
      "superfamily of ATP-binding cassette (ABC) transporters. ABC\n",
      "proteins transport various molecules across extra- and\n",
      "intra-cellular membranes. ABC genes are divided into seven distinct\n",
      "subfamilies (ABC1, MDR/TAP, MRP, ALD, OABP, GCN20, White). This\n",
      "protein is a member of the ALD subfamily, which is involved in\n",
      "peroxisomal import of fatty acids and/or fatty acyl-CoAs in the\n",
      "organelle. All known peroxisomal ABC transporters are half\n",
      "transporters which require a partner half transporter molecule to\n",
      "form a functional homodimeric or heterodimeric transporter. This\n",
      "peroxisomal membrane protein is likely involved in the peroxisomal\n",
      "transport or catabolism of very long chain fatty acids. Defects in\n",
      "this gene have been identified as the underlying cause of\n",
      "adrenoleukodystrophy, an X-chromosome recessively inherited\n",
      "demyelinating disorder of the nervous system. [provided by RefSeq,\n",
      "Jul 2008].\n",
      "Publication Note:  This RefSeq record includes a subset of the\n",
      "publications that are available for this gene. Please see the Gene\n",
      "record to access additional publications.\n",
      "/structured_comment=OrderedDict([('Evidence-Data', OrderedDict([('Transcript exon combination', 'BC025358.1, Z21876.1 [ECO:0000332]'), ('RNAseq introns', 'single sample supports all introns SAMEA1965299, SAMEA1966682 [ECO:0000348]')])), ('RefSeq-Attributes', OrderedDict([('MANE Ensembl match', 'ENST00000218104.6/ ENSP00000218104.3'), ('RefSeq Select criteria', 'based on conservation, expression')]))])\n",
      "/molecule_type=protein\n",
      "Seq('MPVLSRPRPWRGNTLKRTAVLLALAAYGAHKVYPLVRQCLAPARGLQAPAGEPT...AST')\n",
      "['__add__', '__bool__', '__class__', '__contains__', '__delattr__', '__dict__', '__dir__', '__doc__', '__eq__', '__format__', '__ge__', '__getattribute__', '__getitem__', '__gt__', '__hash__', '__init__', '__init_subclass__', '__iter__', '__le__', '__le___', '__len__', '__lt__', '__module__', '__ne__', '__new__', '__radd__', '__reduce__', '__reduce_ex__', '__repr__', '__setattr__', '__sizeof__', '__str__', '__subclasshook__', '__weakref__', '_per_letter_annotations', '_seq', '_set_per_letter_annotations', '_set_seq', 'annotations', 'dbxrefs', 'description', 'features', 'format', 'id', 'letter_annotations', 'lower', 'name', 'reverse_complement', 'seq', 'translate', 'upper']\n",
      "The NP_000024 protein sequence is MPVLSRPRPWRGNTLKRTAVLLALAAYGAHKVYPLVRQCLAPARGLQAPAGEPTQEASGVAAAKAGMNRVFLQRLLWLLRLLFPRVLCRETGLLALHSAALVSRTFLSVYVARLDGRLARCIVRKDPRAFGWQLLQWLLIALPATFVNSAIRYLEGQLALSFRSRLVAHAYRLYFSQQTYYRVSNMDGRLRNPDQSLTEDVVAFAASVAHLYSNLTKPLLDVAVTSYTLLRAARSRGAGTAWPSAIAGLVVFLTANVLRAFSPKFGELVAEEARRKGELRYMHSRVVANSEEIAFYGGHEVELALLQRSYQDLASQINLILLERLWYVMLEQFLMKYVWSASGLLMVAVPIITATGYSESDAEAVKKAALEKKEEELVSERTEAFTIARNLLTAAADAIERIMSSYKEVTELAGYTARVHEMFQVFEDVQRCHFKRPRELEDAQAGSGTIGRSGVRVEGPLKIRGQVVDVEQGIICENIPIVTPSGEVVVASLNIRVEEGMHLLITGPNGCGKSSLFRILGGLWPTYGGVLYKPPPQRMFYIPQRPYMSVGSLRDQVIYPDSVEDMQRKGYSEQDLEAILDVVHLHHILQREGGWEAMCDWKDVLSGGEKQRIGMARMFYHRPKYALLDECTSAVSIDVEGKIFQAAKDAGIALLSITHRPSLWKYHTHLLQFDGEGGWKFEKLDSAARLSLTEEKQRLEQQLAGIPKMQRRLQELCQILGEAVAPAHVPAPSPQGPGGLQGAST \n",
      "\n",
      "topology=linear\n",
      "data_file_division=PRI\n",
      "date=04-OCT-2024\n",
      "accessions=['NP_000024']\n",
      "sequence_version=2\n",
      "db_source=REFSEQ: accession NM_000033.4\n",
      "keywords=['RefSeq', 'MANE Select']\n",
      "source=Homo sapiens (human)\n",
      "organism=Homo sapiens\n",
      "taxonomy=['Eukaryota', 'Metazoa', 'Chordata', 'Craniata', 'Vertebrata', 'Euteleostomi', 'Mammalia', 'Eutheria', 'Euarchontoglires', 'Primates', 'Haplorrhini', 'Catarrhini', 'Hominidae', 'Homo']\n",
      "references=[Reference(title='Structural insights into substrate recognition and translocation of human peroxisomal ABC transporter ALDP', ...), Reference(title='Structural and functional insights of the human peroxisomal ABC transporter ALDP', ...), Reference(title='Structural basis of substrate recognition and translocation by human very long-chain fatty acid transporter ABCD1', ...), Reference(title='Structure and Function of the ABCD1 Variant Database: 20 Years, 940 Pathogenic Variants, and 3400 Cases of Adrenoleukodystrophy', ...), Reference(title='Mutational analysis of patients with X-linked adrenoleukodystrophy', ...), Reference(title='Leukodystrophy Overview - RETIRED CHAPTER, FOR HISTORICAL REFERENCE ONLY', ...), Reference(title='X-Linked Adrenoleukodystrophy', ...), Reference(title='Adrenoleukodystrophy: a complex chromosomal rearrangement in the Xq28 red/green-color-pigment gene region indicates two possible gene localizations', ...), Reference(title='Adrenoleukodystrophy: survey of 303 cases: biochemistry, diagnosis, and therapy', ...), Reference(title='Adrenoleukodystrophy: evidence for X linkage, inactivation, and selection favoring the mutant allele in heterozygous cells', ...)]\n",
      "comment=REVIEWED REFSEQ: This record has been curated by NCBI staff. The\n",
      "reference sequence was derived from U52111.3, BC025358.1 and\n",
      "BC015541.1.\n",
      "This sequence is a reference standard in the RefSeqGene project.\n",
      "On Mar 17, 2000 this sequence version replaced NP_000024.1.\n",
      "Summary: The protein encoded by this gene is a member of the\n",
      "superfamily of ATP-binding cassette (ABC) transporters. ABC\n",
      "proteins transport various molecules across extra- and\n",
      "intra-cellular membranes. ABC genes are divided into seven distinct\n",
      "subfamilies (ABC1, MDR/TAP, MRP, ALD, OABP, GCN20, White). This\n",
      "protein is a member of the ALD subfamily, which is involved in\n",
      "peroxisomal import of fatty acids and/or fatty acyl-CoAs in the\n",
      "organelle. All known peroxisomal ABC transporters are half\n",
      "transporters which require a partner half transporter molecule to\n",
      "form a functional homodimeric or heterodimeric transporter. This\n",
      "peroxisomal membrane protein is likely involved in the peroxisomal\n",
      "transport or catabolism of very long chain fatty acids. Defects in\n",
      "this gene have been identified as the underlying cause of\n",
      "adrenoleukodystrophy, an X-chromosome recessively inherited\n",
      "demyelinating disorder of the nervous system. [provided by RefSeq,\n",
      "Jul 2008].\n",
      "Publication Note:  This RefSeq record includes a subset of the\n",
      "publications that are available for this gene. Please see the Gene\n",
      "record to access additional publications.\n",
      "structured_comment=OrderedDict([('Evidence-Data', OrderedDict([('Transcript exon combination', 'BC025358.1, Z21876.1 [ECO:0000332]'), ('RNAseq introns', 'single sample supports all introns SAMEA1965299, SAMEA1966682 [ECO:0000348]')])), ('RefSeq-Attributes', OrderedDict([('MANE Ensembl match', 'ENST00000218104.6/ ENSP00000218104.3'), ('RefSeq Select criteria', 'based on conservation, expression')]))])\n",
      "molecule_type=protein\n"
     ]
    }
   ],
   "source": [
    "from Bio import Entrez, SeqIO\n",
    "# Always tell NCBI who you are\n",
    "Entrez.email = \"stelo@cs.ucr.edu\" \n",
    "\n",
    "# This gives you the list of available databases\n",
    "handle = Entrez.einfo()\n",
    "print('List of available databases is', Entrez.read(handle), '\\n')\n",
    "\n",
    "# Let's use the protein database to search for ABCD1 (note the query structure)\n",
    "rec = Entrez.read(Entrez.esearch(db=\"protein\", term=\"Homo sapiens[Orgn] AND ABCD1[Gene]\"))\n",
    "\n",
    "# Uncomment to see all hits\n",
    "for x in rec[\"IdList\"]:\n",
    "    p_handle = Entrez.efetch(db=\"protein\", id=x, rettype=\"fasta\")\n",
    "    print(p_handle.read())\n",
    "\n",
    "# we need (NP_000024.2), we get it in GenBank format (you can also get in FASTA)\n",
    "ABCD1_handle = Entrez.efetch(db=\"protein\", id='NP_000024.2', rettype=\"gb\") # rec[\"IdList\"][0]\n",
    "# we parse the handle using SeqIO\n",
    "ABCD1_genbank = SeqIO.read(ABCD1_handle, \"gb\")\n",
    "\n",
    "# GenBank objects have several attributes, including name, sequence, and annotations\n",
    "print(ABCD1_genbank) # uncomment to see the entire GenBank record\n",
    "print(dir(ABCD1_genbank)) # uncomment to see a list of all the methods and properties of a SeqRecord\n",
    "print('The', ABCD1_genbank.name, 'protein sequence is', ABCD1_genbank.seq, '\\n')\n",
    "\n",
    "# Print all the annotations (represented in the dictionary)\n",
    "for name, value in ABCD1_genbank.annotations.items():\n",
    "    print('%s=%s' % (name, value))"
   ]
  },
  {
   "cell_type": "markdown",
   "metadata": {},
   "source": [
    "<div style=\"color: #000000;background-color: #EEFFEE\">\n",
    "    <font size=+2>Question 2.1:</font> <font size=+1>(2 points)</font>\n",
    "<br>    \n",
    "Familiarize yourself with the data format returned by Genbank in your browser. Scan the entries, scroll down to look at the features and the actual primary sequence.\n",
    "<br>    \n",
    "How many amino acids are in the protein produced by the Human ABCD1 gene?"
   ]
  },
  {
   "cell_type": "markdown",
   "metadata": {},
   "source": [
    "## there are 745 amino acids in the protein"
   ]
  },
  {
   "cell_type": "markdown",
   "metadata": {},
   "source": [
    "Now jump to the corresponding entry in the nucleotide database by clicking on the REFSEQ link (on the fifth line of the Genbank file), accession NM_000033 (that’s the mRNA entry for that gene, this is one is version 4).\n",
    "    \n",
    "In Biopython, we can use the annotations attribute 'db_source' to obtain NM_000033, then search Entrez for that entry. Then use SeqIO to convert the entry to GenBank format. \n",
    "\n",
    "Again, familiarize yourself with the data format returned by Genbank for the transcript (or mRNA). Scan the sequence features (exons, polyA sites, etc.)\n",
    "    \n",
    "Alternatively, below we find the start and end of the coding sequence using BioPython, then translate the transcript. Note that the entry we are interested is in the middle (find the output that says \"The two proteins are identical: this is the RIGHT protein\")."
   ]
  },
  {
   "cell_type": "code",
   "execution_count": 4,
   "metadata": {},
   "outputs": [
    {
     "name": "stdout",
     "output_type": "stream",
     "text": [
      "Searching Entrez for NP_000024\n",
      "===============================================================\n",
      "{'Count': '17', 'RetMax': '17', 'RetStart': '0', 'IdList': ['1519313321', '2462628679', '2462628677', '2217391357', '2217391355', '2194972658', '568815575', '300068917', '948284485', '83722405', '123995002', '74273659', '74230002', '19263734', '15930220', '444737792', '123980193'], 'TranslationSet': [{'From': 'Homo sapiens[Orgn]', 'To': '\"Homo sapiens\"[Organism]'}], 'TranslationStack': [{'Term': '\"Homo sapiens\"[Organism]', 'Field': 'Organism', 'Count': '29166916', 'Explode': 'Y'}, {'Term': 'ABCD1[Gene]', 'Field': 'Gene', 'Count': '1621', 'Explode': 'N'}, 'AND'], 'QueryTranslation': '\"Homo sapiens\"[Organism] AND ABCD1[Gene]'}\n",
      "handle <_io.TextIOWrapper encoding='UTF-8'>\n",
      "The transcript NM_000033 sequence is ACTGTCGCTTCAGCCAGGCTGCGGAGCGGACGGACGCGCCTGGTGCCCCGGGGAGGGGCGCCACCGGGGGAGGAGGAGGAGGAGAAGGTGGAGAGGAAGAGACGCCCCCTCTGCCCGAGACCTCTCAAGGCCCTGACCTCAGGGGCCAGGGCACTGACAGGACAGGAGAGCCAAGTTCCTCCACTTGGGCTGCCCGAAGAGGCCGCGACCCTGGAGGGCCCTGAGCCCACCGCACCAGGGGCCCCAGCACCACCCCGGGGGCCTAAAGCGACAGTCTCAGGGGCCATCGCAAGGTTTCCAGTTGCCTAGACAACAGGCCCAGGGTCAGAGCAACAATCCTTCCAGCCACCTGCCTCAACTGCTGCCCCAGGCACCAGCCCCAGTCCCTACGCGGCAGCCAGCCCAGGTGACATGCCGGTGCTCTCCAGGCCCCGGCCCTGGCGGGGGAACACGCTGAAGCGCACGGCCGTGCTCCTGGCCCTCGCGGCCTATGGAGCCCACAAAGTCTACCCCTTGGTGCGCCAGTGCCTGGCCCCGGCCAGGGGTCTTCAGGCGCCCGCCGGGGAGCCCACGCAGGAGGCCTCCGGGGTCGCGGCGGCCAAAGCTGGCATGAACCGGGTATTCCTGCAGCGGCTCCTGTGGCTCCTGCGGCTGCTGTTCCCCCGGGTCCTGTGCCGGGAGACGGGGCTGCTGGCCCTGCACTCGGCCGCCTTGGTGAGCCGCACCTTCCTGTCGGTGTATGTGGCCCGCCTGGACGGAAGGCTGGCCCGCTGCATCGTCCGCAAGGACCCGCGGGCTTTTGGCTGGCAGCTGCTGCAGTGGCTCCTCATCGCCCTCCCTGCTACCTTCGTCAACAGTGCCATCCGTTACCTGGAGGGCCAACTGGCCCTGTCGTTCCGCAGCCGTCTGGTGGCCCACGCCTACCGCCTCTACTTCTCCCAGCAGACCTACTACCGGGTCAGCAACATGGACGGGCGGCTTCGCAACCCTGACCAGTCTCTGACGGAGGACGTGGTGGCCTTTGCGGCCTCTGTGGCCCACCTCTACTCCAACCTGACCAAGCCACTCCTGGACGTGGCTGTGACTTCCTACACCCTGCTTCGGGCGGCCCGCTCCCGTGGAGCCGGCACAGCCTGGCCCTCGGCCATCGCCGGCCTCGTGGTGTTCCTCACGGCCAACGTGCTGCGGGCCTTCTCGCCCAAGTTCGGGGAGCTGGTGGCAGAGGAGGCGCGGCGGAAGGGGGAGCTGCGCTACATGCACTCGCGTGTGGTGGCCAACTCGGAGGAGATCGCCTTCTATGGGGGCCATGAGGTGGAGCTGGCCCTGCTACAGCGCTCCTACCAGGACCTGGCCTCGCAGATCAACCTCATCCTTCTGGAACGCCTGTGGTATGTTATGCTGGAGCAGTTCCTCATGAAGTATGTGTGGAGCGCCTCGGGCCTGCTCATGGTGGCTGTCCCCATCATCACTGCCACTGGCTACTCAGAGTCAGATGCAGAGGCCGTGAAGAAGGCAGCCTTGGAAAAGAAGGAGGAGGAGCTGGTGAGCGAGCGCACAGAAGCCTTCACTATTGCCCGCAACCTCCTGACAGCGGCTGCAGATGCCATTGAGCGGATCATGTCGTCGTACAAGGAGGTGACGGAGCTGGCTGGCTACACAGCCCGGGTGCACGAGATGTTCCAGGTATTTGAAGATGTTCAGCGCTGTCACTTCAAGAGGCCCAGGGAGCTAGAGGACGCTCAGGCGGGGTCTGGGACCATAGGCCGGTCTGGTGTCCGTGTGGAGGGCCCCCTGAAGATCCGAGGCCAGGTGGTGGATGTGGAACAGGGGATCATCTGCGAGAACATCCCCATCGTCACGCCCTCAGGAGAGGTGGTGGTGGCCAGCCTCAACATCAGGGTGGAGGAAGGCATGCATCTGCTCATCACAGGCCCCAATGGCTGCGGCAAGAGCTCCCTGTTCCGGATCCTGGGTGGGCTCTGGCCCACGTACGGTGGTGTGCTCTACAAGCCCCCACCCCAGCGCATGTTCTACATCCCGCAGAGGCCCTACATGTCTGTGGGCTCCCTGCGTGACCAGGTGATCTACCCGGACTCAGTGGAGGACATGCAAAGGAAGGGCTACTCGGAGCAGGACCTGGAAGCCATCCTGGACGTCGTGCACCTGCACCACATCCTGCAGCGGGAGGGAGGTTGGGAGGCTATGTGTGACTGGAAGGACGTCCTGTCGGGTGGCGAGAAGCAGAGAATCGGCATGGCCCGCATGTTCTACCACAGGCCCAAGTACGCCCTCCTGGATGAATGCACCAGCGCCGTGAGCATCGACGTGGAAGGCAAGATCTTCCAGGCGGCCAAGGACGCGGGCATTGCCCTGCTCTCCATCACCCACCGGCCCTCCCTGTGGAAATACCACACACACTTGCTACAGTTCGATGGGGAGGGCGGCTGGAAGTTCGAGAAGCTGGACTCAGCTGCCCGCCTGAGCCTGACGGAGGAGAAGCAGCGGCTGGAGCAGCAGCTGGCGGGCATTCCCAAGATGCAGCGGCGCCTCCAGGAGCTCTGCCAGATCCTGGGCGAGGCCGTGGCCCCAGCGCATGTGCCGGCACCTAGCCCGCAAGGCCCTGGTGGCCTCCAGGGTGCCTCCACCTGACACAACCGTCCCCGGCCCCTGCCCCGCCCCCAAGCTCGGATCACATGAAGGAGACAGCAGCACCCACCCATGCACGCACCCCGCCCCTGCATGCCTGGCCCCTCCTCCTAGAAAACCCTTCCCGCCCTCGGGAAAGTAGATGTGGAGGGTGGCGCCCTGCGTAACCCTCGCCCTGTCCCTCCCACTCCCTGGGGGCGCTGTTCCACAGTGACTGGGCCCTGTCCAGGGCAGTGAGTCCTCTACTTTGCTCCGTGGAGGAAGCTGGGGTACAAGGGGCCCAGTGCTGGCCACACAGCAGCGCAGCCGAGCCCCAGGAGCCCGTCAGGCCACAGCCCCTGGCACTGCAGGTGGCCTCCCTCCAGAGACTCGAGTCCCCATGATTCCCTCCTCGTCAGTCTCTCAAAGACCCCATGGTCCATCCCCTGAGGGTGGTCAGCCAAGGCTCCCGTTCCGTGGGATGCCATAAAAGCCGCCCAGTGGGACCCACAGTCACACAGAGCGCCTCACCTGCATCCTCTCCCCCACAAGAGCCCCAAAGATCCCACGGGAGAGGGGAGAGGGACGCACAGCACTGCCTGCCAAGCGAGAATGCAGGCCCCGCCCCCTCGGCCCCTCACCACCTCTTTCTACAGCCTAATTTATTGGATTCCCTATTCGTAGCCATCTCCGTGGCCAATGTGACTACCGTGCCAGCAGCGGGGGCGGCCCAGCCTCTGAGTCCCGTGGGGCCCCGGCTCCCACCGGTGCCAAACCCAGCCCCTGCGGCCGTCACCCCGCCAGCCTACACTGCCAGCCGCCACCGGGGCACACGGGCCTCTGCTTGCCAGCCAGGAGTGCGGACACCATGTTCCCAGCTCAGTGCCAAAGAGGGGTCACCAGGGGGAGCTGTCTGCGGAGCCAGCGCCTGCCCGAGAGAGACCCCACCGCCACCGTGTGCCTTTCCCGGGCCCTCAGCCCTCGGGCCGGGCACCACCCCCAGTCCCCCCAGTAAAAGCCTCCACTGGCAAATGCAGTCCTTCC \n",
      "\n",
      "The transcript NM_000033 has the following sequence features\n",
      "source [0:3669](+)\n",
      "gene [0:3669](+)\n",
      "exon [0:1311](+)\n",
      "misc_feature [306:309](+)\n",
      "CDS [411:2649](+)\n",
      "misc_feature [609:969](+)\n",
      "misc_feature [609:663](+)\n",
      "misc_feature [684:747](+)\n",
      "misc_feature [801:864](+)\n",
      "misc_feature [1050:1053](+)\n",
      "misc_feature [1122:1185](+)\n",
      "misc_feature [1407:1470](+)\n",
      "misc_feature [1827:1890](+)\n",
      "misc_feature [2382:2646](+)\n",
      "misc_feature [2607:2610](+)\n",
      "exon [1311:1492](+)\n",
      "exon [1492:1635](+)\n",
      "exon [1635:1804](+)\n",
      "exon [1804:1899](+)\n",
      "exon [1899:2045](+)\n",
      "exon [2045:2191](+)\n",
      "exon [2191:2276](+)\n",
      "exon [2276:2402](+)\n",
      "exon [2402:3669](+)\n",
      "regulatory [3635:3641](+)\n",
      "polyA_site [3668:3669](+)\n",
      "MPVLSRPRPWRGNTLKRTAVLLALAAYGAHKVYPLVRQCLAPARGLQAPAGEPTQEASGVAAAKAGMNRVFLQRLLWLLRLLFPRVLCRETGLLALHSAALVSRTFLSVYVARLDGRLARCIVRKDPRAFGWQLLQWLLIALPATFVNSAIRYLEGQLALSFRSRLVAHAYRLYFSQQTYYRVSNMDGRLRNPDQSLTEDVVAFAASVAHLYSNLTKPLLDVAVTSYTLLRAARSRGAGTAWPSAIAGLVVFLTANVLRAFSPKFGELVAEEARRKGELRYMHSRVVANSEEIAFYGGHEVELALLQRSYQDLASQINLILLERLWYVMLEQFLMKYVWSASGLLMVAVPIITATGYSESDAEAVKKAALEKKEEELVSERTEAFTIARNLLTAAADAIERIMSSYKEVTELAGYTARVHEMFQVFEDVQRCHFKRPRELEDAQAGSGTIGRSGVRVEGPLKIRGQVVDVEQGIICENIPIVTPSGEVVVASLNIRVEEGMHLLITGPNGCGKSSLFRILGGLWPTYGGVLYKPPPQRMFYIPQRPYMSVGSLRDQVIYPDSVEDMQRKGYSEQDLEAILDVVHLHHILQREGGWEAMCDWKDVLSGGEKQRIGMARMFYHRPKYALLDECTSAVSIDVEGKIFQAAKDAGIALLSITHRPSLWKYHTHLLQFDGEGGWKFEKLDSAARLSLTEEKQRLEQQLAGIPKMQRRLQELCQILGEAVAPAHVPAPSPQGPGGLQGAST* 746\n",
      "The two proteins are identical: this is the RIGHT protein\n"
     ]
    }
   ],
   "source": [
    "# search Entrez DNA databaset for that record, returns a python dictionary\n",
    "print('Searching Entrez for', ABCD1_genbank.name)\n",
    "record = Entrez.read(Entrez.esearch(db=\"nucleotide\", term=\"Homo sapiens[Orgn] AND ABCD1[Gene]\"))\n",
    "print('===============================================================')\n",
    "print(record)\n",
    "\n",
    "# we iterate through the hits\n",
    "for idx in record[\"IdList\"]:\n",
    "    #print('IDX=',idx)\n",
    "    mRNA_handle = Entrez.efetch(db=\"nucleotide\", id=idx, rettype=\"gb\")\n",
    "    print('handle',mRNA_handle)\n",
    "    mRNA_genbank = SeqIO.read(mRNA_handle, \"gb\")\n",
    "\n",
    "    #print(mRNA_genbank)\n",
    "    if (len(mRNA_genbank.seq)<10000):\n",
    "        print('The transcript', mRNA_genbank.name, 'sequence is', mRNA_genbank.seq, '\\n')\n",
    "    else:\n",
    "        print('The transcript', mRNA_genbank.name, 'sequence is very long -- SKIP') \n",
    "    # The sequence features can be checked one by one, e.g., to find the positions of the beginning/end of the coding sequence (CDS)\n",
    "    print('The transcript', mRNA_genbank.name, 'has the following sequence features')\n",
    "    startCDS = endCDS = 0\n",
    "    for x in mRNA_genbank.features:\n",
    "        print(x.type, x.location)\n",
    "        if (x.type=='CDS'):\n",
    "            startCDS = x.location.start\n",
    "            endCDS = x.location.end\n",
    "\n",
    "    if (startCDS != 0):\n",
    "        protein = mRNA_genbank.seq[startCDS:endCDS].translate()\n",
    "        print(protein,len(protein))\n",
    "        # as a sanity check, we can translate the sequence of the transcript into a protein and check whether it matches the ABCD1 protein\n",
    "        # the only difference between the two is that our protein here has a stop codon indicated by '*', otherwise they are identical\n",
    "        # we can remove the stop codon by using [:-1]\n",
    "        if (ABCD1_genbank.seq==protein[:-1]):\n",
    "            print('The two proteins are identical: this is the RIGHT protein')\n",
    "            break\n",
    "        else:\n",
    "            print('The two proteins are different')\n",
    "    print('===============================================================')"
   ]
  },
  {
   "cell_type": "markdown",
   "metadata": {},
   "source": [
    "<div style=\"color: #000000;background-color: #EEFFEE\">\n",
    "    <font size=+2>Question 2.2:</font> <font size=+1>(2 points)</font>\n",
    "<br>\n",
    "How many exons are annotated in the human ABCD1 mRNA (transcript)? "
   ]
  },
  {
   "cell_type": "markdown",
   "metadata": {},
   "source": [
    "## There are 10 exons annotated in the human ABCD1 mRNA (counted from the output of the code above)"
   ]
  },
  {
   "cell_type": "markdown",
   "metadata": {},
   "source": [
    "<div style=\"color: #000000;background-color: #EEFFEE\">\n",
    "    <font size=+2>Question 2.3:</font> <font size=+1>(2 points)</font>\n",
    "<br>\n",
    "How many nucleotides are in the human ABCD1 mRNA (transcript)? "
   ]
  },
  {
   "cell_type": "markdown",
   "metadata": {},
   "source": [
    "## According to the NCBI website, there are 3669 nucleotines in the human ABCD1 mRNA"
   ]
  },
  {
   "cell_type": "markdown",
   "metadata": {},
   "source": [
    "<div style=\"color: #000000;background-color: #EEFFEE\">\n",
    "    <font size=+2>Question 2.4:</font> <font size=+1>(2 points)</font>\n",
    "<br>    \n",
    "Why there are no intron annotated in the human ABCD1 mRNA (transcript)?"
   ]
  },
  {
   "cell_type": "markdown",
   "metadata": {},
   "source": [
    "## when choosing this transcript, the introns are separated from the exons, and only the exons are shown (the coding regions)"
   ]
  },
  {
   "cell_type": "markdown",
   "metadata": {},
   "source": [
    "Now we want to see how many copies of the ABCD1 gene we have in the human genome. Go to BLAST http://www.ncbi.nlm.nih.gov/BLAST/ and click “Human” under the Search query. Do not change the parameters, but type in the text gadget the ID of the nucleotide entry NM_000033. Make sure the database is “Genome (T2T-CHM13v2.0 assembly top level)” which is the most recent telomere-to-telomere assembly of the human genome. Your request will be processed by BLAST. It may take a few seconds, but you will get eventually the alignment of ABCD1 transcript on the human genome. Check out the alignment produced by BLAST by clicking on the Description column."
   ]
  },
  {
   "cell_type": "markdown",
   "metadata": {},
   "source": [
    "<div style=\"color: #000000;background-color: #EEFFEE\">\n",
    "    <font size=+2>Question 2.5:</font> <font size=+1>(2 points)</font>\n",
    "<br>\n",
    "How many BLAST hits did you get?"
   ]
  },
  {
   "cell_type": "markdown",
   "metadata": {},
   "source": [
    "## I got 6 BLAST hits"
   ]
  },
  {
   "cell_type": "markdown",
   "metadata": {},
   "source": [
    "<div style=\"color: #000000;background-color: #EEFFEE\">\n",
    "    <font size=+2>Question 2.6:</font> <font size=+1>(2 points)</font>\n",
    "<br>\n",
    "On which chromosomes did you get hits?"
   ]
  },
  {
   "cell_type": "markdown",
   "metadata": {},
   "source": [
    "## Chromosomes 2, X, 16, 22, 10, 17"
   ]
  },
  {
   "cell_type": "markdown",
   "metadata": {},
   "source": [
    "<div style=\"color: #000000;background-color: #EEFFEE\">\n",
    "    <font size=+2>Question 2.7:</font> <font size=+1>(2 points)</font>\n",
    "<br>\n",
    "Which chromosome did get the hit with the highest score?"
   ]
  },
  {
   "cell_type": "markdown",
   "metadata": {},
   "source": [
    "## Chromosome X"
   ]
  },
  {
   "cell_type": "markdown",
   "metadata": {},
   "source": [
    "As it turns out, over 90% of the last 1/3 of the ABCD1 gene matches exactly some sections on several other chromosomes. This suggests that the ABCD1 locus of the X chromosome has somehow duplicated to these other chromosomes. Because of the high similarities observed, it is thought that these ABCD1 copies arose a mere 5-10 million years ago, which is relatively recently on an evolutionary scale. These copies of ABCD1 are not thought to be functional, and have been observed previously."
   ]
  },
  {
   "cell_type": "markdown",
   "metadata": {},
   "source": [
    "<div style=\"color: #000000;background-color: #EEFFEE\">\n",
    "    <font size=+2>Question 2.8:</font> <font size=+1>(2 points)</font>\n",
    "<br>\n",
    "How do you explain the fact that this gene is fragmented in 10 pieces along the X chromosome (i.e., the BLAST alignment is broken into 10 ranges)?"
   ]
  },
  {
   "cell_type": "markdown",
   "metadata": {},
   "source": [
    "## The ABCD1 Gene is made up of 10 exons, which are split up during slicing of the gene. When we BLAST the genome, we observe only the exons, which is why we have 10 different ranges in the X chromosome."
   ]
  }
 ],
 "metadata": {
  "kernelspec": {
   "display_name": "UCR CS 144",
   "language": "python",
   "name": "cs144_spring2021"
  },
  "language_info": {
   "codemirror_mode": {
    "name": "ipython",
    "version": 3
   },
   "file_extension": ".py",
   "mimetype": "text/x-python",
   "name": "python",
   "nbconvert_exporter": "python",
   "pygments_lexer": "ipython3",
   "version": "3.8.5"
  }
 },
 "nbformat": 4,
 "nbformat_minor": 4
}
